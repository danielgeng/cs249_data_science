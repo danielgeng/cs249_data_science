{
 "cells": [
  {
   "cell_type": "markdown",
   "metadata": {},
   "source": [
    "# HW4: Baseball Modeling\n",
    "\n",
    "For this problem please install the <i>Lahman</i> package, a comprehensive package about Baseball statistics,\n",
    "and use it to answer a few questions.\n",
    "\n",
    "Important information:\n",
    "<ul><li>\n",
    "project home page (with links to impressive graphics):  http://lahman.r-forge.r-project.org/\n",
    "</li><li>\n",
    "package documentation (html):  http://lahman.r-forge.r-project.org/doc/\n",
    "</li></ul>\n",
    "\n",
    "The documentation includes descriptions of the many tables in this package, such as the\n",
    "Salaries table: http://lahman.r-forge.r-project.org/doc/Salaries.html\n"
   ]
  },
  {
   "cell_type": "markdown",
   "metadata": {},
   "source": [
    "#  The Goal\n",
    "\n",
    "There are two problems for you to solve:\n",
    "<ul><li>\n",
    "Problem 1: construct a model that predicts a player's salary based on his baseball statistics.\n",
    "Your model should have better performance (higher R-squared) than the baseline model given.\n",
    "</li><li>\n",
    "Problem 2: construct a model that predicts whether a player will be inducted into the Hall of Fame.\n",
    "Your model should have better performance (higher Hall-of-Fame-Accuracy-Rate) than the baseline model given.\n",
    "</li></ul>\n",
    "Here, <i>Hall-of-Fame-Accuracy-Rate</i> is a weighted percentage of correct predictions\n",
    "for players in the Hall of Fame:  <u>correct prediction for players in the Hall of Fame\n",
    "is worth 100 times more than for players who are not in the Hall of Fame.</u>\n",
    "\n",
    "Then, as in HW3, upload a .csv file containing your models to CCLE.\n",
    "\n",
    "\n",
    "## Step 1: build the models\n",
    "\n",
    "Using the 'RelevantInformation' table, one model should predict a player's maximum salary,\n",
    "the other should predict whether or not they will get into the Hall of Fame.\n",
    "\n",
    "<b>YOU CAN USE ANY MODEL YOU LIKE.</b>\n",
    "The baseline models are a linear regression model and a logistic regression model ----------\n",
    "but you can choose <i>any</i> model.\n",
    "Please produce the most accurate models you can --\n",
    "more accurate models will get a higher score.\n",
    "\n",
    "<hr style=\"border-width:20px;\">\n",
    "\n",
    "## Step 2: generate a CSV file \"HW4_Baseball_Models.csv\" including your 2 models\n",
    "\n",
    "If these were your two models, then to complete the assignment you would create\n",
    "a CSV file <tt>HW4_Baseball_Models.csv</tt> containing two lines:\n",
    "\n",
    "<code>\n",
    "      0.8999,\"lm( log10(max_salary) ~ AB+R+H+X2B+X3B+HR+RBI+SB, data = RelevantInformation)\"\n",
    "      0.7888,\"glm( HallOfFame ~ AB+R+H+X2B+X3B+HR+SlugPct, data = RelevantInformation, family=binomial)\"\n",
    "</code>\n",
    "\n",
    "<b>Each line gives the accuracy of a model</b>,\n",
    "as well as <b>the exact command you used to generate the model</b>.\n",
    "There is no length restriction on the lines.\n",
    "\n",
    "<hr style=\"border-width:20px;\">\n",
    "\n",
    "## Step 3: upload your CSV file and notebook to CCLE\n",
    "\n",
    "Finally, go to CCLE and upload:\n",
    "<ul><li>\n",
    "your output CSV file <tt>HW4_Baseball_Models.csv</tt>\n",
    "</li><li>\n",
    "your notebook file <tt>HW4_Baseball_Modeling.ipynb</tt>\n",
    "</li></ul>\n",
    "\n",
    "We are not planning to run any of the uploaded notebooks.\n",
    "However, your notebook should have the commands you used in developing your models ---\n",
    "in order to show your work.\n",
    "As announced, all assignment grading in this course will be automated,\n",
    "and the notebook is needed in order to check results of the grading program."
   ]
  },
  {
   "cell_type": "markdown",
   "metadata": {},
   "source": [
    "# Get the Lahman package for R -- a database of Baseball Statistics"
   ]
  },
  {
   "cell_type": "markdown",
   "metadata": {},
   "source": [
    "<hr style=\"border-width:20px;\">\n",
    "\n",
    "### The safe way to install it, so it will work with Jupyter -- execute the command:\n",
    "\n",
    "<pre>\n",
    "         sudo conda install -c https://conda.anaconda.org/asmeurer r-lahman\n",
    "</pre>\n",
    "### (The 'sudo' is not necessary if your conda installation is not write-protected.)"
   ]
  },
  {
   "cell_type": "markdown",
   "metadata": {},
   "source": [
    "<hr style=\"border-width:20px;\">\n",
    "\n",
    "### Another way to install the Lahman package (if this works from within your Jupyter session):"
   ]
  },
  {
   "cell_type": "code",
   "execution_count": 3,
   "metadata": {
    "collapsed": false
   },
   "outputs": [],
   "source": [
    "if (!(is.element(\"Lahman\", installed.packages()))) install.packages(\"Lahman\", repos=\"http://cran.us.r-project.org\")"
   ]
  },
  {
   "cell_type": "markdown",
   "metadata": {},
   "source": [
    "### Load the Lahman baseball data"
   ]
  },
  {
   "cell_type": "code",
   "execution_count": 4,
   "metadata": {
    "collapsed": true
   },
   "outputs": [],
   "source": [
    "library(Lahman)"
   ]
  },
  {
   "cell_type": "markdown",
   "metadata": {},
   "source": [
    "<hr style=\"border-width:20px;\">\n",
    "\n",
    "### Another way to get the data, if you cannot load the Lahman package:\n",
    "\n",
    "The files\n",
    "<tt>PlayersAndStats.csv</tt>\n",
    "and\n",
    "<tt>PlayersAndStatsAndSalary.csv</tt>\n",
    "are distributed with the homework assignment, and are used in the notebook below.\n",
    "\n",
    "You can use these fiels rather than recompute the tables using the Lahman package."
   ]
  },
  {
   "cell_type": "markdown",
   "metadata": {},
   "source": [
    "# Extract Tables of Relevant Information for your Models"
   ]
  },
  {
   "cell_type": "markdown",
   "metadata": {},
   "source": [
    "### Player information -- from the Master table\n",
    "http://lahman.r-forge.r-project.org/doc/Master.html"
   ]
  },
  {
   "cell_type": "code",
   "execution_count": 5,
   "metadata": {
    "collapsed": false
   },
   "outputs": [
    {
     "data": {
      "text/plain": [
       "   playerID          nameFirst           nameLast           birthYear   \n",
       " Length:17071       Length:17071       Length:17071       Min.   :1835  \n",
       " Class :character   Class :character   Class :character   1st Qu.:1902  \n",
       " Mode  :character   Mode  :character   Mode  :character   Median :1941  \n",
       "                                                          Mean   :1935  \n",
       "                                                          3rd Qu.:1969  \n",
       "                                                          Max.   :1994  \n",
       "     weight          height      bats      throws   \n",
       " Min.   : 65.0   Min.   :43.00   B: 1131   L: 3430  \n",
       " 1st Qu.:170.0   1st Qu.:71.00   L: 4721   R:13641  \n",
       " Median :185.0   Median :72.00   R:11219            \n",
       " Mean   :186.2   Mean   :72.34                      \n",
       " 3rd Qu.:200.0   3rd Qu.:74.00                      \n",
       " Max.   :320.0   Max.   :83.00                      "
      ]
     },
     "execution_count": 5,
     "metadata": {},
     "output_type": "execute_result"
    }
   ],
   "source": [
    "SelectedColumns = c(\"playerID\",\"nameFirst\",\"nameLast\",\"birthYear\", \"weight\",\"height\",\"bats\",\"throws\")\n",
    "Players = na.omit( Master[, SelectedColumns] )\n",
    "summary(Players)"
   ]
  },
  {
   "cell_type": "markdown",
   "metadata": {},
   "source": [
    "### Player Maximum Salary -- from the Salaries table\n",
    "http://lahman.r-forge.r-project.org/doc/Salaries.html"
   ]
  },
  {
   "cell_type": "code",
   "execution_count": 6,
   "metadata": {
    "collapsed": false
   },
   "outputs": [
    {
     "data": {
      "text/plain": [
       "     yearID         teamID      lgID         playerID        \n",
       " Min.   :1985   CLE    :  893   AL:12123   Length:24758      \n",
       " 1st Qu.:1993   LAN    :  893   NL:12635   Class :character  \n",
       " Median :2000   PHI    :  893              Mode  :character  \n",
       " Mean   :2000   SLN    :  886                                \n",
       " 3rd Qu.:2007   BAL    :  883                                \n",
       " Max.   :2014   BOS    :  883                                \n",
       "                (Other):19427                                \n",
       "     salary        \n",
       " Min.   :       0  \n",
       " 1st Qu.:  260000  \n",
       " Median :  525000  \n",
       " Mean   : 1932905  \n",
       " 3rd Qu.: 2199643  \n",
       " Max.   :33000000  \n",
       "                   "
      ]
     },
     "execution_count": 6,
     "metadata": {},
     "output_type": "execute_result"
    },
    {
     "data": {
      "text/html": [
       "<table>\n",
       "<thead><tr><th></th><th scope=col>playerID</th><th scope=col>max_salary</th></tr></thead>\n",
       "<tbody>\n",
       "\t<tr><th scope=row>1</th><td>aardsda01</td><td>4500000</td></tr>\n",
       "\t<tr><th scope=row>2</th><td>aasedo01</td><td>675000</td></tr>\n",
       "\t<tr><th scope=row>3</th><td>abadan01</td><td>327000</td></tr>\n",
       "\t<tr><th scope=row>4</th><td>abadfe01</td><td>525900</td></tr>\n",
       "\t<tr><th scope=row>5</th><td>abbotje01</td><td>300000</td></tr>\n",
       "\t<tr><th scope=row>6</th><td>abbotji01</td><td>2775000</td></tr>\n",
       "</tbody>\n",
       "</table>\n"
      ],
      "text/latex": [
       "\\begin{tabular}{r|ll}\n",
       "  & playerID & max_salary\\\\\n",
       "\\hline\n",
       "\t1 & aardsda01 & 4500000\\\\\n",
       "\t2 & aasedo01 & 675000\\\\\n",
       "\t3 & abadan01 & 327000\\\\\n",
       "\t4 & abadfe01 & 525900\\\\\n",
       "\t5 & abbotje01 & 300000\\\\\n",
       "\t6 & abbotji01 & 2775000\\\\\n",
       "\\end{tabular}\n"
      ],
      "text/plain": [
       "   playerID max_salary\n",
       "1 aardsda01    4500000\n",
       "2  aasedo01     675000\n",
       "3  abadan01     327000\n",
       "4  abadfe01     525900\n",
       "5 abbotje01     300000\n",
       "6 abbotji01    2775000"
      ]
     },
     "execution_count": 6,
     "metadata": {},
     "output_type": "execute_result"
    }
   ],
   "source": [
    "summary(Salaries)\n",
    "\n",
    "# example(Salaries)  # see demos of results from the Salaries table\n",
    "\n",
    "PlayerMaxSalary = aggregate( salary ~ playerID, Salaries, max )\n",
    "colnames(PlayerMaxSalary) = gsub( \"salary\", \"max_salary\", colnames(PlayerMaxSalary) )\n",
    "\n",
    "head(PlayerMaxSalary)"
   ]
  },
  {
   "cell_type": "code",
   "execution_count": 7,
   "metadata": {
    "collapsed": false
   },
   "outputs": [
    {
     "data": {
      "text/html": [
       "<table>\n",
       "<thead><tr><th></th><th scope=col>playerID</th><th scope=col>startYear</th></tr></thead>\n",
       "<tbody>\n",
       "\t<tr><th scope=row>1</th><td>aardsda01</td><td>2004</td></tr>\n",
       "\t<tr><th scope=row>2</th><td>aasedo01</td><td>1986</td></tr>\n",
       "\t<tr><th scope=row>3</th><td>abadan01</td><td>2006</td></tr>\n",
       "\t<tr><th scope=row>4</th><td>abadfe01</td><td>2011</td></tr>\n",
       "\t<tr><th scope=row>5</th><td>abbotje01</td><td>1998</td></tr>\n",
       "\t<tr><th scope=row>6</th><td>abbotji01</td><td>1989</td></tr>\n",
       "</tbody>\n",
       "</table>\n"
      ],
      "text/latex": [
       "\\begin{tabular}{r|ll}\n",
       "  & playerID & startYear\\\\\n",
       "\\hline\n",
       "\t1 & aardsda01 & 2004\\\\\n",
       "\t2 & aasedo01 & 1986\\\\\n",
       "\t3 & abadan01 & 2006\\\\\n",
       "\t4 & abadfe01 & 2011\\\\\n",
       "\t5 & abbotje01 & 1998\\\\\n",
       "\t6 & abbotji01 & 1989\\\\\n",
       "\\end{tabular}\n"
      ],
      "text/plain": [
       "   playerID startYear\n",
       "1 aardsda01      2004\n",
       "2  aasedo01      1986\n",
       "3  abadan01      2006\n",
       "4  abadfe01      2011\n",
       "5 abbotje01      1998\n",
       "6 abbotji01      1989"
      ]
     },
     "execution_count": 7,
     "metadata": {},
     "output_type": "execute_result"
    }
   ],
   "source": [
    "PlayerStartYear = aggregate( yearID ~ playerID, Salaries, min )\n",
    "colnames(PlayerStartYear) = gsub( \"yearID\", \"startYear\", colnames(PlayerStartYear) )\n",
    "\n",
    "PlayerEndYear = aggregate( yearID ~ playerID, Salaries, max )\n",
    "colnames(PlayerEndYear) = gsub( \"yearID\", \"endYear\", colnames(PlayerEndYear) )\n",
    "\n",
    "head(PlayerStartYear)"
   ]
  },
  {
   "cell_type": "markdown",
   "metadata": {},
   "source": [
    "### Batting Statistics -- from the BattingStats table\n",
    "http://lahman.r-forge.r-project.org/doc/battingStats.html\n",
    "   \n",
    "(See also the Batting table:\n",
    "http://lahman.r-forge.r-project.org/doc/Batting.html )\n",
    "\n",
    "A glossary for Baseball Statistics Acronyms is in\n",
    "   http://en.wikipedia.org/wiki/Baseball_statistics"
   ]
  },
  {
   "cell_type": "code",
   "execution_count": 8,
   "metadata": {
    "collapsed": true
   },
   "outputs": [],
   "source": [
    "BattingStats = battingStats()"
   ]
  },
  {
   "cell_type": "markdown",
   "metadata": {},
   "source": [
    "### Aggregate Batting Stats -- cumulative, over a player's career"
   ]
  },
  {
   "cell_type": "code",
   "execution_count": 9,
   "metadata": {
    "collapsed": false
   },
   "outputs": [
    {
     "data": {
      "text/html": [
       "11933"
      ],
      "text/latex": [
       "11933"
      ],
      "text/markdown": [
       "11933"
      ],
      "text/plain": [
       "[1] 11933"
      ]
     },
     "execution_count": 9,
     "metadata": {},
     "output_type": "execute_result"
    },
    {
     "data": {
      "text/html": [
       "16037"
      ],
      "text/latex": [
       "16037"
      ],
      "text/markdown": [
       "16037"
      ],
      "text/plain": [
       "[1] 16037"
      ]
     },
     "execution_count": 9,
     "metadata": {},
     "output_type": "execute_result"
    },
    {
     "data": {
      "text/plain": [
       "   playerID               AB                R                H         \n",
       " Length:11532       Min.   :    1.0   Min.   :   0.0   Min.   :   0.0  \n",
       " Class :character   1st Qu.:   19.0   1st Qu.:   1.0   1st Qu.:   3.0  \n",
       " Mode  :character   Median :  136.5   Median :  12.0   Median :  25.0  \n",
       "                    Mean   :  896.7   Mean   : 117.6   Mean   : 234.8  \n",
       "                    3rd Qu.:  834.5   3rd Qu.:  95.0   3rd Qu.: 199.0  \n",
       "                    Max.   :14053.0   Max.   :2295.0   Max.   :4256.0  \n",
       "      X2B              X3B                HR             RBI        \n",
       " Min.   :  0.00   Min.   :  0.000   Min.   :  0.0   Min.   :   0.0  \n",
       " 1st Qu.:  0.00   1st Qu.:  0.000   1st Qu.:  0.0   1st Qu.:   1.0  \n",
       " Median :  4.00   Median :  0.000   Median :  1.0   Median :  10.0  \n",
       " Mean   : 41.29   Mean   :  6.723   Mean   : 21.4   Mean   : 109.6  \n",
       " 3rd Qu.: 33.00   3rd Qu.:  5.000   3rd Qu.: 10.0   3rd Qu.:  85.0  \n",
       " Max.   :746.00   Max.   :173.000   Max.   :762.0   Max.   :2297.0  \n",
       "       SB                CS                BB                BA       \n",
       " Min.   :   0.00   Min.   :  0.000   Min.   :   0.00   Min.   :0.000  \n",
       " 1st Qu.:   0.00   1st Qu.:  0.000   1st Qu.:   1.00   1st Qu.:0.230  \n",
       " Median :   0.00   Median :  0.000   Median :   8.00   Median :0.628  \n",
       " Mean   :  15.59   Mean   :  8.255   Mean   :  86.33   Mean   :1.116  \n",
       " 3rd Qu.:   7.00   3rd Qu.:  6.000   3rd Qu.:  64.00   3rd Qu.:1.596  \n",
       " Max.   :1406.00   Max.   :335.000   Max.   :2558.00   Max.   :7.804  \n",
       "       PA                TB            SlugPct           OBP        \n",
       " Min.   :    1.0   Min.   :   0.0   Min.   :0.000   Min.   :0.0000  \n",
       " 1st Qu.:   21.0   1st Qu.:   3.0   1st Qu.:0.250   1st Qu.:0.2500  \n",
       " Median :  153.0   Median :  33.0   Median :0.388   Median :0.3360  \n",
       " Mean   : 1007.6   Mean   : 353.8   Mean   :0.393   Mean   :0.3365  \n",
       " 3rd Qu.:  926.5   3rd Qu.: 282.2   3rd Qu.:0.500   3rd Qu.:0.4000  \n",
       " Max.   :15861.0   Max.   :6856.0   Max.   :3.000   Max.   :1.0000  \n",
       "      OPS             BABIP       \n",
       " Min.   :0.0000   Min.   :0.0000  \n",
       " 1st Qu.:0.5000   1st Qu.:0.2590  \n",
       " Median :0.7210   Median :0.3330  \n",
       " Mean   :0.7185   Mean   :0.3541  \n",
       " 3rd Qu.:0.8880   3rd Qu.:0.4000  \n",
       " Max.   :4.0000   Max.   :1.0000  "
      ]
     },
     "execution_count": 9,
     "metadata": {},
     "output_type": "execute_result"
    },
    {
     "data": {
      "text/html": [
       "11532"
      ],
      "text/latex": [
       "11532"
      ],
      "text/markdown": [
       "11532"
      ],
      "text/plain": [
       "[1] 11532"
      ]
     },
     "execution_count": 9,
     "metadata": {},
     "output_type": "execute_result"
    }
   ],
   "source": [
    "TotalBattingCounts = aggregate( cbind(AB,R,H,X2B,X3B,HR,RBI,SB,CS,BB,BA,PA,TB) ~ playerID,\n",
    "                                     BattingStats, sum)\n",
    "nrow(TotalBattingCounts)\n",
    "MaxBattingPcts = aggregate( cbind(SlugPct,OBP,OPS,BABIP) ~ playerID,\n",
    "                                 BattingStats, max )\n",
    "nrow(MaxBattingPcts)\n",
    "\n",
    "AggregateBattingStats = merge(TotalBattingCounts,MaxBattingPcts, by=\"playerID\")\n",
    "summary(AggregateBattingStats)\n",
    "nrow(AggregateBattingStats)"
   ]
  },
  {
   "cell_type": "markdown",
   "metadata": {},
   "source": [
    "### Inducted into the Hall of Fame?  -- from the HallOfFame table\n",
    "http://lahman.r-forge.r-project.org/doc/HallOfFame.html"
   ]
  },
  {
   "cell_type": "code",
   "execution_count": 10,
   "metadata": {
    "collapsed": false
   },
   "outputs": [
    {
     "data": {
      "text/html": [
       "<table>\n",
       "<thead><tr><th></th><th scope=col>playerID</th><th scope=col>yearID</th><th scope=col>votedBy</th><th scope=col>ballots</th><th scope=col>needed</th><th scope=col>votes</th><th scope=col>inducted</th><th scope=col>category</th><th scope=col>needed_note</th></tr></thead>\n",
       "<tbody>\n",
       "\t<tr><th scope=row>1</th><td>cobbty01</td><td>1936</td><td>BBWAA</td><td>226</td><td>170</td><td>222</td><td>Y</td><td>Player</td><td>NA</td></tr>\n",
       "\t<tr><th scope=row>2</th><td>ruthba01</td><td>1936</td><td>BBWAA</td><td>226</td><td>170</td><td>215</td><td>Y</td><td>Player</td><td>NA</td></tr>\n",
       "\t<tr><th scope=row>3</th><td>wagneho01</td><td>1936</td><td>BBWAA</td><td>226</td><td>170</td><td>215</td><td>Y</td><td>Player</td><td>NA</td></tr>\n",
       "\t<tr><th scope=row>4</th><td>mathech01</td><td>1936</td><td>BBWAA</td><td>226</td><td>170</td><td>205</td><td>Y</td><td>Player</td><td>NA</td></tr>\n",
       "\t<tr><th scope=row>5</th><td>johnswa01</td><td>1936</td><td>BBWAA</td><td>226</td><td>170</td><td>189</td><td>Y</td><td>Player</td><td>NA</td></tr>\n",
       "\t<tr><th scope=row>6</th><td>lajoina01</td><td>1936</td><td>BBWAA</td><td>226</td><td>170</td><td>146</td><td>N</td><td>Player</td><td>NA</td></tr>\n",
       "</tbody>\n",
       "</table>\n"
      ],
      "text/latex": [
       "\\begin{tabular}{r|lllllllll}\n",
       "  & playerID & yearID & votedBy & ballots & needed & votes & inducted & category & needed_note\\\\\n",
       "\\hline\n",
       "\t1 & cobbty01 & 1936 & BBWAA & 226 & 170 & 222 & Y & Player & NA\\\\\n",
       "\t2 & ruthba01 & 1936 & BBWAA & 226 & 170 & 215 & Y & Player & NA\\\\\n",
       "\t3 & wagneho01 & 1936 & BBWAA & 226 & 170 & 215 & Y & Player & NA\\\\\n",
       "\t4 & mathech01 & 1936 & BBWAA & 226 & 170 & 205 & Y & Player & NA\\\\\n",
       "\t5 & johnswa01 & 1936 & BBWAA & 226 & 170 & 189 & Y & Player & NA\\\\\n",
       "\t6 & lajoina01 & 1936 & BBWAA & 226 & 170 & 146 & N & Player & NA\\\\\n",
       "\\end{tabular}\n"
      ],
      "text/plain": [
       "   playerID yearID votedBy ballots needed votes inducted category needed_note\n",
       "1  cobbty01   1936   BBWAA     226    170   222        Y   Player        <NA>\n",
       "2  ruthba01   1936   BBWAA     226    170   215        Y   Player        <NA>\n",
       "3 wagneho01   1936   BBWAA     226    170   215        Y   Player        <NA>\n",
       "4 mathech01   1936   BBWAA     226    170   205        Y   Player        <NA>\n",
       "5 johnswa01   1936   BBWAA     226    170   189        Y   Player        <NA>\n",
       "6 lajoina01   1936   BBWAA     226    170   146        N   Player        <NA>"
      ]
     },
     "execution_count": 10,
     "metadata": {},
     "output_type": "execute_result"
    },
    {
     "data": {
      "text/html": [
       "<table>\n",
       "<thead><tr><th></th><th scope=col>playerID</th><th scope=col>yearID</th></tr></thead>\n",
       "<tbody>\n",
       "\t<tr><th scope=row>1</th><td>cobbty01</td><td>1936</td></tr>\n",
       "\t<tr><th scope=row>2</th><td>ruthba01</td><td>1936</td></tr>\n",
       "\t<tr><th scope=row>3</th><td>wagneho01</td><td>1936</td></tr>\n",
       "\t<tr><th scope=row>4</th><td>mathech01</td><td>1936</td></tr>\n",
       "\t<tr><th scope=row>5</th><td>johnswa01</td><td>1936</td></tr>\n",
       "\t<tr><th scope=row>111</th><td>lajoina01</td><td>1937</td></tr>\n",
       "</tbody>\n",
       "</table>\n"
      ],
      "text/latex": [
       "\\begin{tabular}{r|ll}\n",
       "  & playerID & yearID\\\\\n",
       "\\hline\n",
       "\t1 & cobbty01 & 1936\\\\\n",
       "\t2 & ruthba01 & 1936\\\\\n",
       "\t3 & wagneho01 & 1936\\\\\n",
       "\t4 & mathech01 & 1936\\\\\n",
       "\t5 & johnswa01 & 1936\\\\\n",
       "\t111 & lajoina01 & 1937\\\\\n",
       "\\end{tabular}\n"
      ],
      "text/plain": [
       "     playerID yearID\n",
       "1    cobbty01   1936\n",
       "2    ruthba01   1936\n",
       "3   wagneho01   1936\n",
       "4   mathech01   1936\n",
       "5   johnswa01   1936\n",
       "111 lajoina01   1937"
      ]
     },
     "execution_count": 10,
     "metadata": {},
     "output_type": "execute_result"
    },
    {
     "data": {
      "text/html": [
       "310"
      ],
      "text/latex": [
       "310"
      ],
      "text/markdown": [
       "310"
      ],
      "text/plain": [
       "[1] 310"
      ]
     },
     "execution_count": 10,
     "metadata": {},
     "output_type": "execute_result"
    }
   ],
   "source": [
    "data(HallOfFame)\n",
    "head(HallOfFame)\n",
    "\n",
    "InductedIntoHallOfFame = subset(HallOfFame, inducted == 'Y')[ , 1:2]\n",
    "\n",
    "head(InductedIntoHallOfFame)\n",
    "nrow(InductedIntoHallOfFame)"
   ]
  },
  {
   "cell_type": "markdown",
   "metadata": {},
   "source": [
    "### Include HallOfFame information in the Players table"
   ]
  },
  {
   "cell_type": "code",
   "execution_count": 11,
   "metadata": {
    "collapsed": false
   },
   "outputs": [
    {
     "data": {
      "text/html": [
       "<table>\n",
       "<thead><tr><th></th><th scope=col>playerID</th><th scope=col>nameFirst</th><th scope=col>nameLast</th><th scope=col>birthYear</th><th scope=col>weight</th><th scope=col>height</th><th scope=col>bats</th><th scope=col>throws</th><th scope=col>HallOfFameYear</th><th scope=col>HallOfFame</th></tr></thead>\n",
       "<tbody>\n",
       "\t<tr><th scope=row>1</th><td>aardsda01</td><td>David</td><td>Aardsma</td><td>1981</td><td>205</td><td>75</td><td>R</td><td>R</td><td>0</td><td>0</td></tr>\n",
       "\t<tr><th scope=row>2</th><td>aaronha01</td><td>Hank</td><td>Aaron</td><td>1934</td><td>180</td><td>72</td><td>R</td><td>R</td><td>1982</td><td>1</td></tr>\n",
       "\t<tr><th scope=row>3</th><td>aaronto01</td><td>Tommie</td><td>Aaron</td><td>1939</td><td>190</td><td>75</td><td>R</td><td>R</td><td>0</td><td>0</td></tr>\n",
       "\t<tr><th scope=row>4</th><td>aasedo01</td><td>Don</td><td>Aase</td><td>1954</td><td>190</td><td>75</td><td>R</td><td>R</td><td>0</td><td>0</td></tr>\n",
       "\t<tr><th scope=row>5</th><td>abadan01</td><td>Andy</td><td>Abad</td><td>1972</td><td>184</td><td>73</td><td>L</td><td>L</td><td>0</td><td>0</td></tr>\n",
       "\t<tr><th scope=row>6</th><td>abadfe01</td><td>Fernando</td><td>Abad</td><td>1985</td><td>220</td><td>73</td><td>L</td><td>L</td><td>0</td><td>0</td></tr>\n",
       "\t<tr><th scope=row>7</th><td>abadijo01</td><td>John</td><td>Abadie</td><td>1854</td><td>192</td><td>72</td><td>R</td><td>R</td><td>0</td><td>0</td></tr>\n",
       "\t<tr><th scope=row>8</th><td>abbated01</td><td>Ed</td><td>Abbaticchio</td><td>1877</td><td>170</td><td>71</td><td>R</td><td>R</td><td>0</td><td>0</td></tr>\n",
       "\t<tr><th scope=row>9</th><td>abbeybe01</td><td>Bert</td><td>Abbey</td><td>1869</td><td>175</td><td>71</td><td>R</td><td>R</td><td>0</td><td>0</td></tr>\n",
       "\t<tr><th scope=row>10</th><td>abbeych01</td><td>Charlie</td><td>Abbey</td><td>1866</td><td>169</td><td>68</td><td>L</td><td>L</td><td>0</td><td>0</td></tr>\n",
       "\t<tr><th scope=row>11</th><td>abbotda01</td><td>Dan</td><td>Abbott</td><td>1862</td><td>190</td><td>71</td><td>R</td><td>R</td><td>0</td><td>0</td></tr>\n",
       "\t<tr><th scope=row>12</th><td>abbotfr01</td><td>Fred</td><td>Abbott</td><td>1874</td><td>180</td><td>70</td><td>R</td><td>R</td><td>0</td><td>0</td></tr>\n",
       "\t<tr><th scope=row>13</th><td>abbotgl01</td><td>Glenn</td><td>Abbott</td><td>1951</td><td>200</td><td>78</td><td>R</td><td>R</td><td>0</td><td>0</td></tr>\n",
       "\t<tr><th scope=row>14</th><td>abbotje01</td><td>Jeff</td><td>Abbott</td><td>1972</td><td>190</td><td>74</td><td>R</td><td>L</td><td>0</td><td>0</td></tr>\n",
       "\t<tr><th scope=row>15</th><td>abbotji01</td><td>Jim</td><td>Abbott</td><td>1967</td><td>200</td><td>75</td><td>L</td><td>L</td><td>0</td><td>0</td></tr>\n",
       "\t<tr><th scope=row>16</th><td>abbotku01</td><td>Kurt</td><td>Abbott</td><td>1969</td><td>180</td><td>71</td><td>R</td><td>R</td><td>0</td><td>0</td></tr>\n",
       "\t<tr><th scope=row>17</th><td>abbotky01</td><td>Kyle</td><td>Abbott</td><td>1968</td><td>200</td><td>76</td><td>L</td><td>L</td><td>0</td><td>0</td></tr>\n",
       "\t<tr><th scope=row>18</th><td>abbotod01</td><td>Ody</td><td>Abbott</td><td>1888</td><td>180</td><td>74</td><td>R</td><td>R</td><td>0</td><td>0</td></tr>\n",
       "\t<tr><th scope=row>19</th><td>abbotpa01</td><td>Paul</td><td>Abbott</td><td>1967</td><td>185</td><td>75</td><td>R</td><td>R</td><td>0</td><td>0</td></tr>\n",
       "\t<tr><th scope=row>20</th><td>aberal01</td><td>Al</td><td>Aber</td><td>1927</td><td>195</td><td>74</td><td>L</td><td>L</td><td>0</td><td>0</td></tr>\n",
       "</tbody>\n",
       "</table>\n"
      ],
      "text/latex": [
       "\\begin{tabular}{r|llllllllll}\n",
       "  & playerID & nameFirst & nameLast & birthYear & weight & height & bats & throws & HallOfFameYear & HallOfFame\\\\\n",
       "\\hline\n",
       "\t1 & aardsda01 & David & Aardsma & 1981 & 205 & 75 & R & R & 0 & 0\\\\\n",
       "\t2 & aaronha01 & Hank & Aaron & 1934 & 180 & 72 & R & R & 1982 & 1\\\\\n",
       "\t3 & aaronto01 & Tommie & Aaron & 1939 & 190 & 75 & R & R & 0 & 0\\\\\n",
       "\t4 & aasedo01 & Don & Aase & 1954 & 190 & 75 & R & R & 0 & 0\\\\\n",
       "\t5 & abadan01 & Andy & Abad & 1972 & 184 & 73 & L & L & 0 & 0\\\\\n",
       "\t6 & abadfe01 & Fernando & Abad & 1985 & 220 & 73 & L & L & 0 & 0\\\\\n",
       "\t7 & abadijo01 & John & Abadie & 1854 & 192 & 72 & R & R & 0 & 0\\\\\n",
       "\t8 & abbated01 & Ed & Abbaticchio & 1877 & 170 & 71 & R & R & 0 & 0\\\\\n",
       "\t9 & abbeybe01 & Bert & Abbey & 1869 & 175 & 71 & R & R & 0 & 0\\\\\n",
       "\t10 & abbeych01 & Charlie & Abbey & 1866 & 169 & 68 & L & L & 0 & 0\\\\\n",
       "\t11 & abbotda01 & Dan & Abbott & 1862 & 190 & 71 & R & R & 0 & 0\\\\\n",
       "\t12 & abbotfr01 & Fred & Abbott & 1874 & 180 & 70 & R & R & 0 & 0\\\\\n",
       "\t13 & abbotgl01 & Glenn & Abbott & 1951 & 200 & 78 & R & R & 0 & 0\\\\\n",
       "\t14 & abbotje01 & Jeff & Abbott & 1972 & 190 & 74 & R & L & 0 & 0\\\\\n",
       "\t15 & abbotji01 & Jim & Abbott & 1967 & 200 & 75 & L & L & 0 & 0\\\\\n",
       "\t16 & abbotku01 & Kurt & Abbott & 1969 & 180 & 71 & R & R & 0 & 0\\\\\n",
       "\t17 & abbotky01 & Kyle & Abbott & 1968 & 200 & 76 & L & L & 0 & 0\\\\\n",
       "\t18 & abbotod01 & Ody & Abbott & 1888 & 180 & 74 & R & R & 0 & 0\\\\\n",
       "\t19 & abbotpa01 & Paul & Abbott & 1967 & 185 & 75 & R & R & 0 & 0\\\\\n",
       "\t20 & aberal01 & Al & Aber & 1927 & 195 & 74 & L & L & 0 & 0\\\\\n",
       "\\end{tabular}\n"
      ],
      "text/plain": [
       "    playerID nameFirst    nameLast birthYear weight height bats throws\n",
       "1  aardsda01     David     Aardsma      1981    205     75    R      R\n",
       "2  aaronha01      Hank       Aaron      1934    180     72    R      R\n",
       "3  aaronto01    Tommie       Aaron      1939    190     75    R      R\n",
       "4   aasedo01       Don        Aase      1954    190     75    R      R\n",
       "5   abadan01      Andy        Abad      1972    184     73    L      L\n",
       "6   abadfe01  Fernando        Abad      1985    220     73    L      L\n",
       "7  abadijo01      John      Abadie      1854    192     72    R      R\n",
       "8  abbated01        Ed Abbaticchio      1877    170     71    R      R\n",
       "9  abbeybe01      Bert       Abbey      1869    175     71    R      R\n",
       "10 abbeych01   Charlie       Abbey      1866    169     68    L      L\n",
       "11 abbotda01       Dan      Abbott      1862    190     71    R      R\n",
       "12 abbotfr01      Fred      Abbott      1874    180     70    R      R\n",
       "13 abbotgl01     Glenn      Abbott      1951    200     78    R      R\n",
       "14 abbotje01      Jeff      Abbott      1972    190     74    R      L\n",
       "15 abbotji01       Jim      Abbott      1967    200     75    L      L\n",
       "16 abbotku01      Kurt      Abbott      1969    180     71    R      R\n",
       "17 abbotky01      Kyle      Abbott      1968    200     76    L      L\n",
       "18 abbotod01       Ody      Abbott      1888    180     74    R      R\n",
       "19 abbotpa01      Paul      Abbott      1967    185     75    R      R\n",
       "20  aberal01        Al        Aber      1927    195     74    L      L\n",
       "   HallOfFameYear HallOfFame\n",
       "1               0          0\n",
       "2            1982          1\n",
       "3               0          0\n",
       "4               0          0\n",
       "5               0          0\n",
       "6               0          0\n",
       "7               0          0\n",
       "8               0          0\n",
       "9               0          0\n",
       "10              0          0\n",
       "11              0          0\n",
       "12              0          0\n",
       "13              0          0\n",
       "14              0          0\n",
       "15              0          0\n",
       "16              0          0\n",
       "17              0          0\n",
       "18              0          0\n",
       "19              0          0\n",
       "20              0          0"
      ]
     },
     "execution_count": 11,
     "metadata": {},
     "output_type": "execute_result"
    }
   ],
   "source": [
    "PlayersWithHallOfFame = transform( merge( Players, InductedIntoHallOfFame, all.x=TRUE, by=\"playerID\"),\n",
    "                                        HallOfFame = ifelse( is.na(yearID), 0, 1 ),\n",
    "                                        yearID = ifelse( is.na(yearID), 0, yearID )\n",
    "                                        )\n",
    "colnames(PlayersWithHallOfFame) = gsub( \"yearID\", \"HallOfFameYear\", colnames(PlayersWithHallOfFame) )\n",
    "head(PlayersWithHallOfFame, 20)"
   ]
  },
  {
   "cell_type": "code",
   "execution_count": 12,
   "metadata": {
    "collapsed": false
   },
   "outputs": [
    {
     "data": {
      "text/html": [
       "17071"
      ],
      "text/latex": [
       "17071"
      ],
      "text/markdown": [
       "17071"
      ],
      "text/plain": [
       "[1] 17071"
      ]
     },
     "execution_count": 12,
     "metadata": {},
     "output_type": "execute_result"
    },
    {
     "data": {
      "text/html": [
       "277"
      ],
      "text/latex": [
       "277"
      ],
      "text/markdown": [
       "277"
      ],
      "text/plain": [
       "[1] 277"
      ]
     },
     "execution_count": 12,
     "metadata": {},
     "output_type": "execute_result"
    }
   ],
   "source": [
    "nrow(PlayersWithHallOfFame)\n",
    "nrow(subset(PlayersWithHallOfFame, HallOfFame == 1))"
   ]
  },
  {
   "cell_type": "code",
   "execution_count": 13,
   "metadata": {
    "collapsed": false
   },
   "outputs": [
    {
     "data": {
      "text/html": [
       "11299"
      ],
      "text/latex": [
       "11299"
      ],
      "text/markdown": [
       "11299"
      ],
      "text/plain": [
       "[1] 11299"
      ]
     },
     "execution_count": 13,
     "metadata": {},
     "output_type": "execute_result"
    },
    {
     "data": {
      "text/html": [
       "194"
      ],
      "text/latex": [
       "194"
      ],
      "text/markdown": [
       "194"
      ],
      "text/plain": [
       "[1] 194"
      ]
     },
     "execution_count": 13,
     "metadata": {},
     "output_type": "execute_result"
    }
   ],
   "source": [
    "PlayersAndStats = merge( PlayersWithHallOfFame, AggregateBattingStats )\n",
    "\n",
    "nrow(PlayersAndStats)\n",
    "nrow(subset(PlayersAndStats, HallOfFame == 1))\n",
    "\n",
    "# write.csv(PlayersAndStats, file=\"PlayersAndStats.csv\", quote=FALSE, row.names=FALSE)"
   ]
  },
  {
   "cell_type": "markdown",
   "metadata": {},
   "source": [
    "# Join Information for your Baseball Salary model into one Table"
   ]
  },
  {
   "cell_type": "markdown",
   "metadata": {},
   "source": [
    "### Merge Aggregate Batting Statistics and Maximum Salary into the Relevant Information table"
   ]
  },
  {
   "cell_type": "code",
   "execution_count": 14,
   "metadata": {
    "collapsed": false
   },
   "outputs": [
    {
     "data": {
      "text/html": [
       "<table>\n",
       "<thead><tr><th></th><th scope=col>playerID</th><th scope=col>nameFirst</th><th scope=col>nameLast</th><th scope=col>birthYear</th><th scope=col>weight</th><th scope=col>height</th><th scope=col>bats</th><th scope=col>throws</th><th scope=col>HallOfFameYear</th><th scope=col>HallOfFame</th><th scope=col>AB</th><th scope=col>R</th><th scope=col>H</th><th scope=col>X2B</th><th scope=col>X3B</th><th scope=col>HR</th><th scope=col>RBI</th><th scope=col>SB</th><th scope=col>CS</th><th scope=col>BB</th><th scope=col>BA</th><th scope=col>PA</th><th scope=col>TB</th><th scope=col>SlugPct</th><th scope=col>OBP</th><th scope=col>OPS</th><th scope=col>BABIP</th><th scope=col>max_salary</th><th scope=col>startYear</th><th scope=col>endYear</th><th scope=col>totalYears</th></tr></thead>\n",
       "<tbody>\n",
       "\t<tr><th scope=row>1</th><td>aardsda01</td><td>David</td><td>Aardsma</td><td>1981</td><td>205</td><td>75</td><td>R</td><td>R</td><td>0</td><td>0</td><td>3</td><td>0</td><td>0</td><td>0</td><td>0</td><td>0</td><td>0</td><td>0</td><td>0</td><td>0</td><td>0</td><td>4</td><td>0</td><td>0</td><td>0</td><td>0</td><td>0</td><td>4500000</td><td>2004</td><td>2012</td><td>9</td></tr>\n",
       "\t<tr><th scope=row>2</th><td>aasedo01</td><td>Don</td><td>Aase</td><td>1954</td><td>190</td><td>75</td><td>R</td><td>R</td><td>0</td><td>0</td><td>5</td><td>0</td><td>0</td><td>0</td><td>0</td><td>0</td><td>0</td><td>0</td><td>0</td><td>0</td><td>0</td><td>5</td><td>0</td><td>0</td><td>0</td><td>0</td><td>0</td><td>675000</td><td>1986</td><td>1989</td><td>4</td></tr>\n",
       "\t<tr><th scope=row>3</th><td>abadan01</td><td>Andy</td><td>Abad</td><td>1972</td><td>184</td><td>73</td><td>L</td><td>L</td><td>0</td><td>0</td><td>21</td><td>1</td><td>2</td><td>0</td><td>0</td><td>0</td><td>0</td><td>0</td><td>1</td><td>4</td><td>0.118</td><td>25</td><td>2</td><td>0.118</td><td>0.4</td><td>0.4</td><td>0.167</td><td>327000</td><td>2006</td><td>2006</td><td>1</td></tr>\n",
       "\t<tr><th scope=row>4</th><td>abadfe01</td><td>Fernando</td><td>Abad</td><td>1985</td><td>220</td><td>73</td><td>L</td><td>L</td><td>0</td><td>0</td><td>8</td><td>0</td><td>1</td><td>0</td><td>0</td><td>0</td><td>0</td><td>0</td><td>0</td><td>0</td><td>0.143</td><td>8</td><td>1</td><td>0.143</td><td>0.143</td><td>0.286</td><td>0.25</td><td>525900</td><td>2011</td><td>2014</td><td>4</td></tr>\n",
       "\t<tr><th scope=row>5</th><td>abbotje01</td><td>Jeff</td><td>Abbott</td><td>1972</td><td>190</td><td>74</td><td>R</td><td>L</td><td>0</td><td>0</td><td>596</td><td>82</td><td>157</td><td>33</td><td>2</td><td>18</td><td>83</td><td>6</td><td>5</td><td>38</td><td>1.236</td><td>649</td><td>248</td><td>0.492</td><td>0.343</td><td>0.79</td><td>0.32</td><td>300000</td><td>1998</td><td>2001</td><td>4</td></tr>\n",
       "\t<tr><th scope=row>6</th><td>abbotji01</td><td>Jim</td><td>Abbott</td><td>1967</td><td>200</td><td>75</td><td>L</td><td>L</td><td>0</td><td>0</td><td>21</td><td>0</td><td>2</td><td>0</td><td>0</td><td>0</td><td>3</td><td>0</td><td>0</td><td>0</td><td>0.095</td><td>24</td><td>2</td><td>0.095</td><td>0.095</td><td>0.19</td><td>0.182</td><td>2775000</td><td>1989</td><td>1999</td><td>11</td></tr>\n",
       "</tbody>\n",
       "</table>\n"
      ],
      "text/latex": [
       "\\begin{tabular}{r|lllllllllllllllllllllllllllllll}\n",
       "  & playerID & nameFirst & nameLast & birthYear & weight & height & bats & throws & HallOfFameYear & HallOfFame & AB & R & H & X2B & X3B & HR & RBI & SB & CS & BB & BA & PA & TB & SlugPct & OBP & OPS & BABIP & max_salary & startYear & endYear & totalYears\\\\\n",
       "\\hline\n",
       "\t1 & aardsda01 & David & Aardsma & 1981 & 205 & 75 & R & R & 0 & 0 & 3 & 0 & 0 & 0 & 0 & 0 & 0 & 0 & 0 & 0 & 0 & 4 & 0 & 0 & 0 & 0 & 0 & 4500000 & 2004 & 2012 & 9\\\\\n",
       "\t2 & aasedo01 & Don & Aase & 1954 & 190 & 75 & R & R & 0 & 0 & 5 & 0 & 0 & 0 & 0 & 0 & 0 & 0 & 0 & 0 & 0 & 5 & 0 & 0 & 0 & 0 & 0 & 675000 & 1986 & 1989 & 4\\\\\n",
       "\t3 & abadan01 & Andy & Abad & 1972 & 184 & 73 & L & L & 0 & 0 & 21 & 1 & 2 & 0 & 0 & 0 & 0 & 0 & 1 & 4 & 0.118 & 25 & 2 & 0.118 & 0.4 & 0.4 & 0.167 & 327000 & 2006 & 2006 & 1\\\\\n",
       "\t4 & abadfe01 & Fernando & Abad & 1985 & 220 & 73 & L & L & 0 & 0 & 8 & 0 & 1 & 0 & 0 & 0 & 0 & 0 & 0 & 0 & 0.143 & 8 & 1 & 0.143 & 0.143 & 0.286 & 0.25 & 525900 & 2011 & 2014 & 4\\\\\n",
       "\t5 & abbotje01 & Jeff & Abbott & 1972 & 190 & 74 & R & L & 0 & 0 & 596 & 82 & 157 & 33 & 2 & 18 & 83 & 6 & 5 & 38 & 1.236 & 649 & 248 & 0.492 & 0.343 & 0.79 & 0.32 & 300000 & 1998 & 2001 & 4\\\\\n",
       "\t6 & abbotji01 & Jim & Abbott & 1967 & 200 & 75 & L & L & 0 & 0 & 21 & 0 & 2 & 0 & 0 & 0 & 3 & 0 & 0 & 0 & 0.095 & 24 & 2 & 0.095 & 0.095 & 0.19 & 0.182 & 2775000 & 1989 & 1999 & 11\\\\\n",
       "\\end{tabular}\n"
      ],
      "text/plain": [
       "   playerID nameFirst nameLast birthYear weight height bats throws\n",
       "1 aardsda01     David  Aardsma      1981    205     75    R      R\n",
       "2  aasedo01       Don     Aase      1954    190     75    R      R\n",
       "3  abadan01      Andy     Abad      1972    184     73    L      L\n",
       "4  abadfe01  Fernando     Abad      1985    220     73    L      L\n",
       "5 abbotje01      Jeff   Abbott      1972    190     74    R      L\n",
       "6 abbotji01       Jim   Abbott      1967    200     75    L      L\n",
       "  HallOfFameYear HallOfFame  AB  R   H X2B X3B HR RBI SB CS BB    BA  PA  TB\n",
       "1              0          0   3  0   0   0   0  0   0  0  0  0 0.000   4   0\n",
       "2              0          0   5  0   0   0   0  0   0  0  0  0 0.000   5   0\n",
       "3              0          0  21  1   2   0   0  0   0  0  1  4 0.118  25   2\n",
       "4              0          0   8  0   1   0   0  0   0  0  0  0 0.143   8   1\n",
       "5              0          0 596 82 157  33   2 18  83  6  5 38 1.236 649 248\n",
       "6              0          0  21  0   2   0   0  0   3  0  0  0 0.095  24   2\n",
       "  SlugPct   OBP   OPS BABIP max_salary startYear endYear totalYears\n",
       "1   0.000 0.000 0.000 0.000    4500000      2004    2012          9\n",
       "2   0.000 0.000 0.000 0.000     675000      1986    1989          4\n",
       "3   0.118 0.400 0.400 0.167     327000      2006    2006          1\n",
       "4   0.143 0.143 0.286 0.250     525900      2011    2014          4\n",
       "5   0.492 0.343 0.790 0.320     300000      1998    2001          4\n",
       "6   0.095 0.095 0.190 0.182    2775000      1989    1999         11"
      ]
     },
     "execution_count": 14,
     "metadata": {},
     "output_type": "execute_result"
    },
    {
     "data": {
      "text/html": [
       "4090"
      ],
      "text/latex": [
       "4090"
      ],
      "text/markdown": [
       "4090"
      ],
      "text/plain": [
       "[1] 4090"
      ]
     },
     "execution_count": 14,
     "metadata": {},
     "output_type": "execute_result"
    }
   ],
   "source": [
    "PlayersAndStatsAndSalary = transform(\n",
    "    merge( merge( merge( PlayersAndStats, PlayerMaxSalary ), PlayerStartYear), PlayerEndYear ),\n",
    "    totalYears = endYear - startYear + 1\n",
    "    )\n",
    "head(PlayersAndStatsAndSalary)\n",
    "nrow(PlayersAndStatsAndSalary)\n",
    "\n",
    "# write.csv(PlayersAndStatsAndSalary, file=\"PlayersAndStatsAndSalary.csv\", quote=FALSE, row.names=FALSE)"
   ]
  },
  {
   "cell_type": "markdown",
   "metadata": {},
   "source": [
    "# Problem 1: construct a model with better performance  (higher R-squared) than this Baseline Salary Model"
   ]
  },
  {
   "cell_type": "markdown",
   "metadata": {},
   "source": [
    "### For this salary model, consider only those players who started playing after 2000:"
   ]
  },
  {
   "cell_type": "code",
   "execution_count": 15,
   "metadata": {
    "collapsed": false
   },
   "outputs": [
    {
     "data": {
      "text/html": [
       "1720"
      ],
      "text/latex": [
       "1720"
      ],
      "text/markdown": [
       "1720"
      ],
      "text/plain": [
       "[1] 1720"
      ]
     },
     "execution_count": 15,
     "metadata": {},
     "output_type": "execute_result"
    }
   ],
   "source": [
    "RecentPlayersAndStatsAndSalary = subset( PlayersAndStatsAndSalary, startYear >= 2000 )\n",
    "nrow(RecentPlayersAndStatsAndSalary)"
   ]
  },
  {
   "cell_type": "code",
   "execution_count": 16,
   "metadata": {
    "collapsed": false
   },
   "outputs": [
    {
     "data": {
      "text/plain": [
       "   playerID          nameFirst           nameLast           birthYear   \n",
       " Length:1720        Length:1720        Length:1720        Min.   :1925  \n",
       " Class :character   Class :character   Class :character   1st Qu.:1978  \n",
       " Mode  :character   Mode  :character   Mode  :character   Median :1982  \n",
       "                                                          Mean   :1982  \n",
       "                                                          3rd Qu.:1985  \n",
       "                                                          Max.   :1993  \n",
       "     weight          height      bats     throws   HallOfFameYear   HallOfFame\n",
       " Min.   :150.0   Min.   :66.00   B: 153   L: 338   Min.   :0      Min.   :0   \n",
       " 1st Qu.:190.0   1st Qu.:72.00   L: 507   R:1382   1st Qu.:0      1st Qu.:0   \n",
       " Median :205.0   Median :74.00   R:1060            Median :0      Median :0   \n",
       " Mean   :207.4   Mean   :73.53                     Mean   :0      Mean   :0   \n",
       " 3rd Qu.:220.0   3rd Qu.:75.00                     3rd Qu.:0      3rd Qu.:0   \n",
       " Max.   :295.0   Max.   :83.00                     Max.   :0      Max.   :0   \n",
       "       AB                R                H               X2B        \n",
       " Min.   :   1.00   Min.   :   0.0   Min.   :   0.0   Min.   :  0.00  \n",
       " 1st Qu.:  17.75   1st Qu.:   1.0   1st Qu.:   2.0   1st Qu.:  0.00  \n",
       " Median : 234.50   Median :  19.0   Median :  41.0   Median :  7.00  \n",
       " Mean   : 873.78   Mean   : 114.6   Mean   : 226.3   Mean   : 45.09  \n",
       " 3rd Qu.:1083.00   3rd Qu.: 134.0   3rd Qu.: 276.2   3rd Qu.: 52.00  \n",
       " Max.   :8964.00   Max.   :1514.0   Max.   :2844.0   Max.   :561.00  \n",
       "      X3B                HR              RBI               SB        \n",
       " Min.   :  0.000   Min.   :  0.00   Min.   :   0.0   Min.   :  0.00  \n",
       " 1st Qu.:  0.000   1st Qu.:  0.00   1st Qu.:   1.0   1st Qu.:  0.00  \n",
       " Median :  0.000   Median :  2.00   Median :  16.5   Median :  0.00  \n",
       " Mean   :  5.174   Mean   : 24.63   Mean   : 106.0   Mean   : 16.74  \n",
       " 3rd Qu.:  5.250   3rd Qu.: 23.00   3rd Qu.: 115.5   3rd Qu.: 12.00  \n",
       " Max.   :120.000   Max.   :520.00   Max.   :1603.0   Max.   :614.00  \n",
       "       CS                BB                BA               PA        \n",
       " Min.   :  0.000   Min.   :   0.00   Min.   :0.0000   Min.   :   1.0  \n",
       " 1st Qu.:  0.000   1st Qu.:   0.00   1st Qu.:0.2727   1st Qu.:  19.0  \n",
       " Median :  0.000   Median :  13.00   Median :0.7890   Median : 264.5  \n",
       " Mean   :  6.414   Mean   :  78.77   Mean   :1.0537   Mean   : 976.8  \n",
       " 3rd Qu.:  6.000   3rd Qu.:  85.25   3rd Qu.:1.5442   3rd Qu.:1215.0  \n",
       " Max.   :203.000   Max.   :1317.00   Max.   :5.0540   Max.   :9663.0  \n",
       "       TB             SlugPct            OBP              OPS        \n",
       " Min.   :   0.00   Min.   :0.0000   Min.   :0.0000   Min.   :0.0000  \n",
       " 1st Qu.:   2.75   1st Qu.:0.2500   1st Qu.:0.2500   1st Qu.:0.5000  \n",
       " Median :  57.00   Median :0.4130   Median :0.3340   Median :0.7500  \n",
       " Mean   : 355.59   Mean   :0.4015   Mean   :0.3245   Mean   :0.7150  \n",
       " 3rd Qu.: 415.25   3rd Qu.:0.5070   3rd Qu.:0.3920   3rd Qu.:0.8912  \n",
       " Max.   :4672.00   Max.   :3.0000   Max.   :1.0000   Max.   :4.0000  \n",
       "     BABIP          max_salary         startYear       endYear    \n",
       " Min.   :0.0000   Min.   :  200000   Min.   :2000   Min.   :2000  \n",
       " 1st Qu.:0.2780   1st Qu.:  422225   1st Qu.:2004   1st Qu.:2008  \n",
       " Median :0.3400   Median :  600000   Median :2007   Median :2012  \n",
       " Mean   :0.3625   Mean   : 2893409   Mean   :2007   Mean   :2011  \n",
       " 3rd Qu.:0.4170   3rd Qu.: 3606250   3rd Qu.:2011   3rd Qu.:2014  \n",
       " Max.   :1.0000   Max.   :26000000   Max.   :2014   Max.   :2014  \n",
       "   totalYears    \n",
       " Min.   : 1.000  \n",
       " 1st Qu.: 1.000  \n",
       " Median : 4.000  \n",
       " Mean   : 4.386  \n",
       " 3rd Qu.: 7.000  \n",
       " Max.   :14.000  "
      ]
     },
     "execution_count": 16,
     "metadata": {},
     "output_type": "execute_result"
    }
   ],
   "source": [
    "summary(RecentPlayersAndStatsAndSalary)"
   ]
  },
  {
   "cell_type": "code",
   "execution_count": 17,
   "metadata": {
    "collapsed": false
   },
   "outputs": [
    {
     "data": {
      "text/html": [
       "<table>\n",
       "<thead><tr><th></th><th scope=col>playerID</th><th scope=col>nameFirst</th><th scope=col>nameLast</th><th scope=col>birthYear</th><th scope=col>weight</th><th scope=col>height</th><th scope=col>bats</th><th scope=col>throws</th><th scope=col>HallOfFameYear</th><th scope=col>HallOfFame</th><th scope=col>AB</th><th scope=col>R</th><th scope=col>H</th><th scope=col>X2B</th><th scope=col>X3B</th><th scope=col>HR</th><th scope=col>RBI</th><th scope=col>SB</th><th scope=col>CS</th><th scope=col>BB</th><th scope=col>BA</th><th scope=col>PA</th><th scope=col>TB</th><th scope=col>SlugPct</th><th scope=col>OBP</th><th scope=col>OPS</th><th scope=col>BABIP</th><th scope=col>max_salary</th><th scope=col>startYear</th><th scope=col>endYear</th><th scope=col>totalYears</th></tr></thead>\n",
       "<tbody>\n",
       "\t<tr><th scope=row>1</th><td>aardsda01</td><td>David</td><td>Aardsma</td><td>1981</td><td>205</td><td>75</td><td>R</td><td>R</td><td>0</td><td>0</td><td>3</td><td>0</td><td>0</td><td>0</td><td>0</td><td>0</td><td>0</td><td>0</td><td>0</td><td>0</td><td>0</td><td>4</td><td>0</td><td>0</td><td>0</td><td>0</td><td>0</td><td>4500000</td><td>2004</td><td>2012</td><td>9</td></tr>\n",
       "\t<tr><th scope=row>3</th><td>abadan01</td><td>Andy</td><td>Abad</td><td>1972</td><td>184</td><td>73</td><td>L</td><td>L</td><td>0</td><td>0</td><td>21</td><td>1</td><td>2</td><td>0</td><td>0</td><td>0</td><td>0</td><td>0</td><td>1</td><td>4</td><td>0.118</td><td>25</td><td>2</td><td>0.118</td><td>0.4</td><td>0.4</td><td>0.167</td><td>327000</td><td>2006</td><td>2006</td><td>1</td></tr>\n",
       "\t<tr><th scope=row>4</th><td>abadfe01</td><td>Fernando</td><td>Abad</td><td>1985</td><td>220</td><td>73</td><td>L</td><td>L</td><td>0</td><td>0</td><td>8</td><td>0</td><td>1</td><td>0</td><td>0</td><td>0</td><td>0</td><td>0</td><td>0</td><td>0</td><td>0.143</td><td>8</td><td>1</td><td>0.143</td><td>0.143</td><td>0.286</td><td>0.25</td><td>525900</td><td>2011</td><td>2014</td><td>4</td></tr>\n",
       "\t<tr><th scope=row>10</th><td>abercre01</td><td>Reggie</td><td>Abercrombie</td><td>1980</td><td>215</td><td>75</td><td>R</td><td>R</td><td>0</td><td>0</td><td>386</td><td>65</td><td>86</td><td>20</td><td>2</td><td>9</td><td>34</td><td>18</td><td>8</td><td>21</td><td>0.718</td><td>421</td><td>137</td><td>0.509</td><td>0.339</td><td>0.848</td><td>0.484</td><td>327000</td><td>2006</td><td>2006</td><td>1</td></tr>\n",
       "\t<tr><th scope=row>11</th><td>abernbr01</td><td>Brent</td><td>Abernathy</td><td>1977</td><td>185</td><td>73</td><td>R</td><td>R</td><td>0</td><td>0</td><td>868</td><td>97</td><td>212</td><td>36</td><td>5</td><td>8</td><td>79</td><td>21</td><td>7</td><td>60</td><td>0.825</td><td>955</td><td>282</td><td>0.382</td><td>0.328</td><td>0.71</td><td>0.291</td><td>300000</td><td>2002</td><td>2003</td><td>2</td></tr>\n",
       "\t<tr><th scope=row>14</th><td>abreujo02</td><td>Jose</td><td>Abreu</td><td>1987</td><td>255</td><td>75</td><td>R</td><td>R</td><td>0</td><td>0</td><td>556</td><td>80</td><td>176</td><td>35</td><td>2</td><td>36</td><td>107</td><td>3</td><td>1</td><td>51</td><td>0.317</td><td>622</td><td>323</td><td>0.581</td><td>0.383</td><td>0.964</td><td>0.356</td><td>7000000</td><td>2014</td><td>2014</td><td>1</td></tr>\n",
       "</tbody>\n",
       "</table>\n"
      ],
      "text/latex": [
       "\\begin{tabular}{r|lllllllllllllllllllllllllllllll}\n",
       "  & playerID & nameFirst & nameLast & birthYear & weight & height & bats & throws & HallOfFameYear & HallOfFame & AB & R & H & X2B & X3B & HR & RBI & SB & CS & BB & BA & PA & TB & SlugPct & OBP & OPS & BABIP & max_salary & startYear & endYear & totalYears\\\\\n",
       "\\hline\n",
       "\t1 & aardsda01 & David & Aardsma & 1981 & 205 & 75 & R & R & 0 & 0 & 3 & 0 & 0 & 0 & 0 & 0 & 0 & 0 & 0 & 0 & 0 & 4 & 0 & 0 & 0 & 0 & 0 & 4500000 & 2004 & 2012 & 9\\\\\n",
       "\t3 & abadan01 & Andy & Abad & 1972 & 184 & 73 & L & L & 0 & 0 & 21 & 1 & 2 & 0 & 0 & 0 & 0 & 0 & 1 & 4 & 0.118 & 25 & 2 & 0.118 & 0.4 & 0.4 & 0.167 & 327000 & 2006 & 2006 & 1\\\\\n",
       "\t4 & abadfe01 & Fernando & Abad & 1985 & 220 & 73 & L & L & 0 & 0 & 8 & 0 & 1 & 0 & 0 & 0 & 0 & 0 & 0 & 0 & 0.143 & 8 & 1 & 0.143 & 0.143 & 0.286 & 0.25 & 525900 & 2011 & 2014 & 4\\\\\n",
       "\t10 & abercre01 & Reggie & Abercrombie & 1980 & 215 & 75 & R & R & 0 & 0 & 386 & 65 & 86 & 20 & 2 & 9 & 34 & 18 & 8 & 21 & 0.718 & 421 & 137 & 0.509 & 0.339 & 0.848 & 0.484 & 327000 & 2006 & 2006 & 1\\\\\n",
       "\t11 & abernbr01 & Brent & Abernathy & 1977 & 185 & 73 & R & R & 0 & 0 & 868 & 97 & 212 & 36 & 5 & 8 & 79 & 21 & 7 & 60 & 0.825 & 955 & 282 & 0.382 & 0.328 & 0.71 & 0.291 & 300000 & 2002 & 2003 & 2\\\\\n",
       "\t14 & abreujo02 & Jose & Abreu & 1987 & 255 & 75 & R & R & 0 & 0 & 556 & 80 & 176 & 35 & 2 & 36 & 107 & 3 & 1 & 51 & 0.317 & 622 & 323 & 0.581 & 0.383 & 0.964 & 0.356 & 7000000 & 2014 & 2014 & 1\\\\\n",
       "\\end{tabular}\n"
      ],
      "text/plain": [
       "    playerID nameFirst    nameLast birthYear weight height bats throws\n",
       "1  aardsda01     David     Aardsma      1981    205     75    R      R\n",
       "3   abadan01      Andy        Abad      1972    184     73    L      L\n",
       "4   abadfe01  Fernando        Abad      1985    220     73    L      L\n",
       "10 abercre01    Reggie Abercrombie      1980    215     75    R      R\n",
       "11 abernbr01     Brent   Abernathy      1977    185     73    R      R\n",
       "14 abreujo02      Jose       Abreu      1987    255     75    R      R\n",
       "   HallOfFameYear HallOfFame  AB  R   H X2B X3B HR RBI SB CS BB    BA  PA  TB\n",
       "1               0          0   3  0   0   0   0  0   0  0  0  0 0.000   4   0\n",
       "3               0          0  21  1   2   0   0  0   0  0  1  4 0.118  25   2\n",
       "4               0          0   8  0   1   0   0  0   0  0  0  0 0.143   8   1\n",
       "10              0          0 386 65  86  20   2  9  34 18  8 21 0.718 421 137\n",
       "11              0          0 868 97 212  36   5  8  79 21  7 60 0.825 955 282\n",
       "14              0          0 556 80 176  35   2 36 107  3  1 51 0.317 622 323\n",
       "   SlugPct   OBP   OPS BABIP max_salary startYear endYear totalYears\n",
       "1    0.000 0.000 0.000 0.000    4500000      2004    2012          9\n",
       "3    0.118 0.400 0.400 0.167     327000      2006    2006          1\n",
       "4    0.143 0.143 0.286 0.250     525900      2011    2014          4\n",
       "10   0.509 0.339 0.848 0.484     327000      2006    2006          1\n",
       "11   0.382 0.328 0.710 0.291     300000      2002    2003          2\n",
       "14   0.581 0.383 0.964 0.356    7000000      2014    2014          1"
      ]
     },
     "execution_count": 17,
     "metadata": {},
     "output_type": "execute_result"
    }
   ],
   "source": [
    "head(RecentPlayersAndStatsAndSalary)"
   ]
  },
  {
   "cell_type": "code",
   "execution_count": 18,
   "metadata": {
    "collapsed": true
   },
   "outputs": [],
   "source": [
    "linear_accuracy = function(model, test_features, test_labels){\n",
    "    pd = predict(model, test_features)\n",
    "    return (var(pd) / var(test_labels))\n",
    "}"
   ]
  },
  {
   "cell_type": "code",
   "execution_count": 19,
   "metadata": {
    "collapsed": false
   },
   "outputs": [
    {
     "data": {
      "text/plain": [
       "\n",
       "Call:\n",
       "lm(formula = log10(max_salary) ~ AB + R + H + X2B + X3B + HR + \n",
       "    RBI + SB + CS + BB + BA + PA + SlugPct + OBP + BABIP + startYear + \n",
       "    totalYears, data = RecentPlayersAndStatsAndSalary)\n",
       "\n",
       "Residuals:\n",
       "     Min       1Q   Median       3Q      Max \n",
       "-1.11262 -0.16561 -0.03839  0.14415  1.53555 \n",
       "\n",
       "Coefficients:\n",
       "              Estimate Std. Error t value Pr(>|t|)    \n",
       "(Intercept) -6.371e+01  4.032e+00 -15.803  < 2e-16 ***\n",
       "AB          -3.093e-03  5.457e-04  -5.668 1.69e-08 ***\n",
       "R           -1.767e-03  5.068e-04  -3.487 0.000500 ***\n",
       "H            8.609e-04  3.506e-04   2.456 0.014160 *  \n",
       "X2B          1.408e-03  7.283e-04   1.933 0.053370 .  \n",
       "X3B          3.012e-03  1.658e-03   1.817 0.069368 .  \n",
       "HR           2.309e-03  1.020e-03   2.263 0.023764 *  \n",
       "RBI          9.654e-05  4.981e-04   0.194 0.846337    \n",
       "SB           8.782e-04  5.399e-04   1.627 0.103968    \n",
       "CS          -7.303e-04  1.786e-03  -0.409 0.682640    \n",
       "BB          -2.381e-03  5.068e-04  -4.698 2.84e-06 ***\n",
       "BA          -1.403e-01  2.001e-02  -7.010 3.42e-12 ***\n",
       "PA           2.932e-03  5.138e-04   5.705 1.37e-08 ***\n",
       "SlugPct      5.453e-03  4.608e-02   0.118 0.905814    \n",
       "OBP         -2.146e-02  8.254e-02  -0.260 0.794916    \n",
       "BABIP        1.805e-01  5.083e-02   3.552 0.000393 ***\n",
       "startYear    3.443e-02  2.006e-03  17.168  < 2e-16 ***\n",
       "totalYears   1.440e-01  3.074e-03  46.840  < 2e-16 ***\n",
       "---\n",
       "Signif. codes:  0 ‘***’ 0.001 ‘**’ 0.01 ‘*’ 0.05 ‘.’ 0.1 ‘ ’ 1\n",
       "\n",
       "Residual standard error: 0.2883 on 1702 degrees of freedom\n",
       "Multiple R-squared:  0.7349,\tAdjusted R-squared:  0.7322 \n",
       "F-statistic: 277.5 on 17 and 1702 DF,  p-value: < 2.2e-16\n"
      ]
     },
     "execution_count": 19,
     "metadata": {},
     "output_type": "execute_result"
    }
   ],
   "source": [
    "BaselineSalaryModel = lm( log10(max_salary) ~\n",
    "                         AB+R+H+X2B+X3B+HR+RBI+SB+CS+BB+BA+PA+SlugPct+OBP+BABIP + startYear + totalYears,\n",
    "                         data = RecentPlayersAndStatsAndSalary)\n",
    "summary(BaselineSalaryModel)"
   ]
  },
  {
   "cell_type": "code",
   "execution_count": 20,
   "metadata": {
    "collapsed": false
   },
   "outputs": [
    {
     "name": "stdout",
     "output_type": "stream",
     "text": [
      "[1] 0.7349\n"
     ]
    }
   ],
   "source": [
    "p1_base_accu = round(linear_accuracy(BaselineSalaryModel, RecentPlayersAndStatsAndSalary, \n",
    "                                     log10(RecentPlayersAndStatsAndSalary$max_salary)), digits=4)\n",
    "print(p1_base_accu)"
   ]
  },
  {
   "cell_type": "code",
   "execution_count": 21,
   "metadata": {
    "collapsed": true
   },
   "outputs": [],
   "source": [
    "RelevantInformation = RecentPlayersAndStatsAndSalary"
   ]
  },
  {
   "cell_type": "code",
   "execution_count": 22,
   "metadata": {
    "collapsed": true
   },
   "outputs": [],
   "source": [
    "if (!(is.element(\"leaps\", installed.packages())))  install.packages(\"leaps\",repos=\"http://cran.rstudio.com/\")\n",
    "library(leaps)\n",
    "if (!(is.element(\"MASS\", installed.packages())))  install.packages(\"MASS\")\n",
    "library(MASS) "
   ]
  },
  {
   "cell_type": "code",
   "execution_count": 23,
   "metadata": {
    "collapsed": false
   },
   "outputs": [
    {
     "data": {
      "text/html": [
       "<ol class=list-inline>\n",
       "\t<li>'playerID'</li>\n",
       "\t<li>'nameFirst'</li>\n",
       "\t<li>'nameLast'</li>\n",
       "\t<li>'birthYear'</li>\n",
       "\t<li>'weight'</li>\n",
       "\t<li>'height'</li>\n",
       "\t<li>'bats'</li>\n",
       "\t<li>'throws'</li>\n",
       "\t<li>'HallOfFameYear'</li>\n",
       "\t<li>'HallOfFame'</li>\n",
       "\t<li>'AB'</li>\n",
       "\t<li>'R'</li>\n",
       "\t<li>'H'</li>\n",
       "\t<li>'X2B'</li>\n",
       "\t<li>'X3B'</li>\n",
       "\t<li>'HR'</li>\n",
       "\t<li>'RBI'</li>\n",
       "\t<li>'SB'</li>\n",
       "\t<li>'CS'</li>\n",
       "\t<li>'BB'</li>\n",
       "\t<li>'BA'</li>\n",
       "\t<li>'PA'</li>\n",
       "\t<li>'TB'</li>\n",
       "\t<li>'SlugPct'</li>\n",
       "\t<li>'OBP'</li>\n",
       "\t<li>'OPS'</li>\n",
       "\t<li>'BABIP'</li>\n",
       "\t<li>'max_salary'</li>\n",
       "\t<li>'startYear'</li>\n",
       "\t<li>'endYear'</li>\n",
       "\t<li>'totalYears'</li>\n",
       "</ol>\n"
      ],
      "text/latex": [
       "\\begin{enumerate*}\n",
       "\\item 'playerID'\n",
       "\\item 'nameFirst'\n",
       "\\item 'nameLast'\n",
       "\\item 'birthYear'\n",
       "\\item 'weight'\n",
       "\\item 'height'\n",
       "\\item 'bats'\n",
       "\\item 'throws'\n",
       "\\item 'HallOfFameYear'\n",
       "\\item 'HallOfFame'\n",
       "\\item 'AB'\n",
       "\\item 'R'\n",
       "\\item 'H'\n",
       "\\item 'X2B'\n",
       "\\item 'X3B'\n",
       "\\item 'HR'\n",
       "\\item 'RBI'\n",
       "\\item 'SB'\n",
       "\\item 'CS'\n",
       "\\item 'BB'\n",
       "\\item 'BA'\n",
       "\\item 'PA'\n",
       "\\item 'TB'\n",
       "\\item 'SlugPct'\n",
       "\\item 'OBP'\n",
       "\\item 'OPS'\n",
       "\\item 'BABIP'\n",
       "\\item 'max_salary'\n",
       "\\item 'startYear'\n",
       "\\item 'endYear'\n",
       "\\item 'totalYears'\n",
       "\\end{enumerate*}\n"
      ],
      "text/markdown": [
       "1. 'playerID'\n",
       "2. 'nameFirst'\n",
       "3. 'nameLast'\n",
       "4. 'birthYear'\n",
       "5. 'weight'\n",
       "6. 'height'\n",
       "7. 'bats'\n",
       "8. 'throws'\n",
       "9. 'HallOfFameYear'\n",
       "10. 'HallOfFame'\n",
       "11. 'AB'\n",
       "12. 'R'\n",
       "13. 'H'\n",
       "14. 'X2B'\n",
       "15. 'X3B'\n",
       "16. 'HR'\n",
       "17. 'RBI'\n",
       "18. 'SB'\n",
       "19. 'CS'\n",
       "20. 'BB'\n",
       "21. 'BA'\n",
       "22. 'PA'\n",
       "23. 'TB'\n",
       "24. 'SlugPct'\n",
       "25. 'OBP'\n",
       "26. 'OPS'\n",
       "27. 'BABIP'\n",
       "28. 'max_salary'\n",
       "29. 'startYear'\n",
       "30. 'endYear'\n",
       "31. 'totalYears'\n",
       "\n",
       "\n"
      ],
      "text/plain": [
       " [1] \"playerID\"       \"nameFirst\"      \"nameLast\"       \"birthYear\"     \n",
       " [5] \"weight\"         \"height\"         \"bats\"           \"throws\"        \n",
       " [9] \"HallOfFameYear\" \"HallOfFame\"     \"AB\"             \"R\"             \n",
       "[13] \"H\"              \"X2B\"            \"X3B\"            \"HR\"            \n",
       "[17] \"RBI\"            \"SB\"             \"CS\"             \"BB\"            \n",
       "[21] \"BA\"             \"PA\"             \"TB\"             \"SlugPct\"       \n",
       "[25] \"OBP\"            \"OPS\"            \"BABIP\"          \"max_salary\"    \n",
       "[29] \"startYear\"      \"endYear\"        \"totalYears\"    "
      ]
     },
     "execution_count": 23,
     "metadata": {},
     "output_type": "execute_result"
    }
   ],
   "source": [
    "colnames(RelevantInformation)"
   ]
  },
  {
   "cell_type": "code",
   "execution_count": 24,
   "metadata": {
    "collapsed": false
   },
   "outputs": [
    {
     "data": {
      "text/plain": [
       "Subset selection object\n",
       "Call: regsubsets.formula(log10(max_salary) ~ AB + R + H + X2B + X3B + \n",
       "    HR + RBI + SB + CS + BB + BA + PA + exp(SlugPct) + OBP + \n",
       "    BABIP + startYear + totalYears + weight + height + bats + \n",
       "    throws + OPS, data = RelevantInformation, nbest = 1, nvmax = NULL, \n",
       "    method = \"exhaustive\")\n",
       "23 Variables  (and intercept)\n",
       "             Forced in Forced out\n",
       "AB               FALSE      FALSE\n",
       "R                FALSE      FALSE\n",
       "H                FALSE      FALSE\n",
       "X2B              FALSE      FALSE\n",
       "X3B              FALSE      FALSE\n",
       "HR               FALSE      FALSE\n",
       "RBI              FALSE      FALSE\n",
       "SB               FALSE      FALSE\n",
       "CS               FALSE      FALSE\n",
       "BB               FALSE      FALSE\n",
       "BA               FALSE      FALSE\n",
       "PA               FALSE      FALSE\n",
       "exp(SlugPct)     FALSE      FALSE\n",
       "OBP              FALSE      FALSE\n",
       "BABIP            FALSE      FALSE\n",
       "startYear        FALSE      FALSE\n",
       "totalYears       FALSE      FALSE\n",
       "weight           FALSE      FALSE\n",
       "height           FALSE      FALSE\n",
       "batsL            FALSE      FALSE\n",
       "batsR            FALSE      FALSE\n",
       "throwsR          FALSE      FALSE\n",
       "OPS              FALSE      FALSE\n",
       "1 subsets of each size up to 23\n",
       "Selection Algorithm: exhaustive\n",
       "          AB  R   H   X2B X3B HR  RBI SB  CS  BB  BA  PA  exp(SlugPct) OBP\n",
       "1  ( 1 )  \" \" \" \" \" \" \" \" \" \" \" \" \" \" \" \" \" \" \" \" \" \" \" \" \" \"          \" \"\n",
       "2  ( 1 )  \" \" \" \" \" \" \" \" \" \" \" \" \" \" \" \" \" \" \" \" \" \" \" \" \" \"          \" \"\n",
       "3  ( 1 )  \" \" \" \" \" \" \" \" \" \" \"*\" \" \" \" \" \" \" \" \" \" \" \" \" \" \"          \" \"\n",
       "4  ( 1 )  \" \" \" \" \" \" \" \" \" \" \" \" \"*\" \" \" \" \" \" \" \" \" \" \" \" \"          \" \"\n",
       "5  ( 1 )  \" \" \" \" \" \" \" \" \" \" \" \" \"*\" \" \" \" \" \" \" \"*\" \" \" \" \"          \" \"\n",
       "6  ( 1 )  \" \" \" \" \" \" \" \" \" \" \" \" \" \" \" \" \" \" \" \" \"*\" \"*\" \" \"          \" \"\n",
       "7  ( 1 )  \" \" \" \" \" \" \" \" \" \" \" \" \"*\" \" \" \" \" \" \" \"*\" \"*\" \" \"          \" \"\n",
       "8  ( 1 )  \"*\" \" \" \" \" \" \" \" \" \" \" \" \" \" \" \" \" \"*\" \"*\" \"*\" \" \"          \" \"\n",
       "9  ( 1 )  \"*\" \" \" \" \" \" \" \" \" \" \" \"*\" \" \" \" \" \"*\" \"*\" \"*\" \" \"          \" \"\n",
       "10  ( 1 ) \"*\" \" \" \" \" \" \" \" \" \" \" \"*\" \" \" \" \" \"*\" \"*\" \"*\" \" \"          \" \"\n",
       "11  ( 1 ) \"*\" \" \" \" \" \" \" \" \" \" \" \"*\" \" \" \" \" \"*\" \"*\" \"*\" \" \"          \" \"\n",
       "12  ( 1 ) \"*\" \" \" \" \" \"*\" \" \" \" \" \"*\" \" \" \" \" \"*\" \"*\" \"*\" \" \"          \" \"\n",
       "13  ( 1 ) \"*\" \"*\" \"*\" \"*\" \" \" \"*\" \" \" \"*\" \" \" \"*\" \"*\" \"*\" \" \"          \" \"\n",
       "14  ( 1 ) \"*\" \"*\" \"*\" \" \" \"*\" \"*\" \" \" \" \" \" \" \"*\" \"*\" \"*\" \" \"          \" \"\n",
       "15  ( 1 ) \"*\" \"*\" \"*\" \"*\" \" \" \"*\" \" \" \"*\" \" \" \"*\" \"*\" \"*\" \" \"          \" \"\n",
       "16  ( 1 ) \"*\" \"*\" \"*\" \"*\" \"*\" \"*\" \" \" \"*\" \" \" \"*\" \"*\" \"*\" \" \"          \" \"\n",
       "17  ( 1 ) \"*\" \"*\" \"*\" \"*\" \"*\" \"*\" \" \" \"*\" \"*\" \"*\" \"*\" \"*\" \" \"          \" \"\n",
       "18  ( 1 ) \"*\" \"*\" \"*\" \"*\" \"*\" \"*\" \" \" \"*\" \"*\" \"*\" \"*\" \"*\" \" \"          \"*\"\n",
       "19  ( 1 ) \"*\" \"*\" \"*\" \"*\" \"*\" \"*\" \" \" \"*\" \"*\" \"*\" \"*\" \"*\" \"*\"          \" \"\n",
       "20  ( 1 ) \"*\" \"*\" \"*\" \"*\" \"*\" \"*\" \" \" \"*\" \"*\" \"*\" \"*\" \"*\" \"*\"          \" \"\n",
       "21  ( 1 ) \"*\" \"*\" \"*\" \"*\" \"*\" \"*\" \" \" \"*\" \"*\" \"*\" \"*\" \"*\" \"*\"          \" \"\n",
       "22  ( 1 ) \"*\" \"*\" \"*\" \"*\" \"*\" \"*\" \" \" \"*\" \"*\" \"*\" \"*\" \"*\" \"*\"          \"*\"\n",
       "23  ( 1 ) \"*\" \"*\" \"*\" \"*\" \"*\" \"*\" \"*\" \"*\" \"*\" \"*\" \"*\" \"*\" \"*\"          \"*\"\n",
       "          BABIP startYear totalYears weight height batsL batsR throwsR OPS\n",
       "1  ( 1 )  \" \"   \" \"       \"*\"        \" \"    \" \"    \" \"   \" \"   \" \"     \" \"\n",
       "2  ( 1 )  \" \"   \"*\"       \"*\"        \" \"    \" \"    \" \"   \" \"   \" \"     \" \"\n",
       "3  ( 1 )  \" \"   \"*\"       \"*\"        \" \"    \" \"    \" \"   \" \"   \" \"     \" \"\n",
       "4  ( 1 )  \" \"   \"*\"       \"*\"        \" \"    \"*\"    \" \"   \" \"   \" \"     \" \"\n",
       "5  ( 1 )  \" \"   \"*\"       \"*\"        \" \"    \"*\"    \" \"   \" \"   \" \"     \" \"\n",
       "6  ( 1 )  \"*\"   \"*\"       \"*\"        \" \"    \"*\"    \" \"   \" \"   \" \"     \" \"\n",
       "7  ( 1 )  \"*\"   \"*\"       \"*\"        \" \"    \"*\"    \" \"   \" \"   \" \"     \" \"\n",
       "8  ( 1 )  \"*\"   \"*\"       \"*\"        \" \"    \"*\"    \" \"   \" \"   \" \"     \" \"\n",
       "9  ( 1 )  \"*\"   \"*\"       \"*\"        \" \"    \"*\"    \" \"   \" \"   \" \"     \" \"\n",
       "10  ( 1 ) \"*\"   \"*\"       \"*\"        \" \"    \"*\"    \" \"   \" \"   \"*\"     \" \"\n",
       "11  ( 1 ) \"*\"   \"*\"       \"*\"        \" \"    \"*\"    \"*\"   \" \"   \"*\"     \" \"\n",
       "12  ( 1 ) \"*\"   \"*\"       \"*\"        \" \"    \"*\"    \"*\"   \" \"   \"*\"     \" \"\n",
       "13  ( 1 ) \"*\"   \"*\"       \"*\"        \" \"    \"*\"    \" \"   \" \"   \" \"     \" \"\n",
       "14  ( 1 ) \"*\"   \"*\"       \"*\"        \" \"    \"*\"    \"*\"   \" \"   \"*\"     \" \"\n",
       "15  ( 1 ) \"*\"   \"*\"       \"*\"        \" \"    \"*\"    \"*\"   \" \"   \"*\"     \" \"\n",
       "16  ( 1 ) \"*\"   \"*\"       \"*\"        \" \"    \"*\"    \"*\"   \" \"   \"*\"     \" \"\n",
       "17  ( 1 ) \"*\"   \"*\"       \"*\"        \" \"    \"*\"    \"*\"   \" \"   \"*\"     \" \"\n",
       "18  ( 1 ) \"*\"   \"*\"       \"*\"        \" \"    \"*\"    \"*\"   \" \"   \"*\"     \" \"\n",
       "19  ( 1 ) \"*\"   \"*\"       \"*\"        \" \"    \"*\"    \"*\"   \" \"   \"*\"     \"*\"\n",
       "20  ( 1 ) \"*\"   \"*\"       \"*\"        \" \"    \"*\"    \"*\"   \"*\"   \"*\"     \"*\"\n",
       "21  ( 1 ) \"*\"   \"*\"       \"*\"        \"*\"    \"*\"    \"*\"   \"*\"   \"*\"     \"*\"\n",
       "22  ( 1 ) \"*\"   \"*\"       \"*\"        \"*\"    \"*\"    \"*\"   \"*\"   \"*\"     \"*\"\n",
       "23  ( 1 ) \"*\"   \"*\"       \"*\"        \"*\"    \"*\"    \"*\"   \"*\"   \"*\"     \"*\""
      ]
     },
     "execution_count": 24,
     "metadata": {},
     "output_type": "execute_result"
    }
   ],
   "source": [
    "rs = regsubsets( log10(max_salary) ~ AB+R+H+X2B+X3B+HR+RBI+SB+CS+BB+BA+PA+exp(SlugPct)+OBP+BABIP + startYear + totalYears\n",
    "                +weight+height+bats+throws+OPS, \n",
    "                data=RelevantInformation, nbest=1, nvmax=NULL , method = \"exhaustive\" )\n",
    "\n",
    "summary(rs)"
   ]
  },
  {
   "cell_type": "code",
   "execution_count": 25,
   "metadata": {
    "collapsed": false
   },
   "outputs": [
    {
     "data": {
      "text/plain": [
       "\n",
       "Call: rlm(formula = log10(max_salary) ~ AB + R + H + log10(X2B + 5) + \n",
       "    X3B + HR + RBI + log10(SB + 1) + CS + BB + BA + PA + exp(SlugPct) + \n",
       "    BABIP + log10(startYear) + totalYears + height + throws + \n",
       "    log10(OPS + 0.01), data = RelevantInformation)\n",
       "Residuals:\n",
       "     Min       1Q   Median       3Q      Max \n",
       "-1.09019 -0.14659 -0.00997  0.14532  1.58091 \n",
       "\n",
       "Coefficients:\n",
       "                  Value     Std. Error t value  \n",
       "(Intercept)       -475.5310   28.0915   -16.9279\n",
       "AB                  -0.0029    0.0005    -6.0046\n",
       "R                   -0.0011    0.0004    -2.5726\n",
       "H                    0.0009    0.0003     2.6926\n",
       "log10(X2B + 5)       0.0135    0.0377     0.3590\n",
       "X3B                  0.0017    0.0015     1.1813\n",
       "HR                   0.0021    0.0009     2.3543\n",
       "RBI                  0.0000    0.0004    -0.0767\n",
       "log10(SB + 1)       -0.0329    0.0231    -1.4258\n",
       "CS                   0.0026    0.0012     2.2647\n",
       "BB                  -0.0023    0.0005    -5.1002\n",
       "BA                  -0.1275    0.0187    -6.8056\n",
       "PA                   0.0028    0.0005     6.1308\n",
       "exp(SlugPct)         0.0014    0.0091     0.1499\n",
       "BABIP                0.1177    0.0438     2.6882\n",
       "log10(startYear)   145.2401    8.5090    17.0689\n",
       "totalYears           0.1414    0.0029    48.0247\n",
       "height               0.0173    0.0030     5.7023\n",
       "throwsR             -0.0294    0.0161    -1.8265\n",
       "log10(OPS + 0.01)    0.0121    0.0168     0.7216\n",
       "\n",
       "Residual standard error: 0.2171 on 1700 degrees of freedom"
      ]
     },
     "execution_count": 25,
     "metadata": {},
     "output_type": "execute_result"
    }
   ],
   "source": [
    "p1_model = rlm(log10(max_salary) ~ AB+R+H+log10(X2B+5)+X3B+HR+RBI+log10(SB+1)+CS+BB+BA+PA+exp(SlugPct)+BABIP+log10(startYear)\n",
    "                         +totalYears+height+throws+log10(OPS+0.01),data = RelevantInformation)\n",
    "summary(p1_model)"
   ]
  },
  {
   "cell_type": "code",
   "execution_count": 26,
   "metadata": {
    "collapsed": false
   },
   "outputs": [
    {
     "name": "stdout",
     "output_type": "stream",
     "text": [
      "[1] 0.7915\n"
     ]
    }
   ],
   "source": [
    "p1_accu = round(linear_accuracy(p1_model, RelevantInformation, \n",
    "                                     log10(RelevantInformation$max_salary)), digits=4)\n",
    "print(p1_accu)"
   ]
  },
  {
   "cell_type": "code",
   "execution_count": 27,
   "metadata": {
    "collapsed": true
   },
   "outputs": [],
   "source": [
    "p1 = c(p1_accu,\n",
    "      \"\\\"rlm(log10(max_salary) ~ AB+R+H+log10(X2B+5)+X3B+HR+RBI+log10(SB+1)+CS+BB+BA+PA+exp(SlugPct)+BABIP+log10(startYear)+totalYears+height+throws+log10(OPS+0.01),data = RelevantInformation)\\\"\")"
   ]
  },
  {
   "cell_type": "code",
   "execution_count": 30,
   "metadata": {
    "collapsed": true
   },
   "outputs": [],
   "source": [
    "salary_test = read.csv(file=\"HW4_Baseball_Salary_test.csv\",head=TRUE,sep=\",\")"
   ]
  },
  {
   "cell_type": "code",
   "execution_count": 37,
   "metadata": {
    "collapsed": false
   },
   "outputs": [],
   "source": [
    "salary_predictions = predict(p1_model, salary_test)\n",
    "salary_predictions = 10^salary_predictions"
   ]
  },
  {
   "cell_type": "code",
   "execution_count": 38,
   "metadata": {
    "collapsed": false
   },
   "outputs": [],
   "source": [
    "write.table(salary_predictions, file=\"HW4_Baseball_Salary_predictions.csv\", quote=FALSE, row.names=FALSE, col.names=c(\"max_salary\"))"
   ]
  },
  {
   "cell_type": "markdown",
   "metadata": {},
   "source": [
    "# Problem 2: construct a model with better performance  (higher accuracy) than this Baseline Hall of Fame Model"
   ]
  },
  {
   "cell_type": "markdown",
   "metadata": {},
   "source": [
    "###  Hall of Fame election rules:\n",
    "\n",
    "\n",
    "A. A baseball player must have been active as a player in the Major Leagues at some time during a period beginning fifteen (15) years before and ending five (5) years prior to election.\n",
    "\n",
    "B. Player must have played in each of ten (10) Major League championship seasons, some part of which must have been within the period described in 3(A).\n",
    "\n",
    "C. Player shall have ceased to be an active player in the Major Leagues at least five (5) calendar years preceding the election but may be otherwise connected with baseball.\n",
    "\n",
    "### Consequently:   only consider players born before 1970\n",
    "(They must start around 20 years of age, play at least 10 years, have stopped playing at least 5 years earlier, and take perhaps 10 years to win the ballot -- so born at least 45 years ago.)"
   ]
  },
  {
   "cell_type": "code",
   "execution_count": 40,
   "metadata": {
    "collapsed": false
   },
   "outputs": [
    {
     "data": {
      "text/html": [
       "<table>\n",
       "<thead><tr><th></th><th scope=col>playerID</th><th scope=col>nameFirst</th><th scope=col>nameLast</th><th scope=col>birthYear</th><th scope=col>weight</th><th scope=col>height</th><th scope=col>bats</th><th scope=col>throws</th><th scope=col>HallOfFameYear</th><th scope=col>HallOfFame</th><th scope=col>AB</th><th scope=col>R</th><th scope=col>H</th><th scope=col>X2B</th><th scope=col>X3B</th><th scope=col>HR</th><th scope=col>RBI</th><th scope=col>SB</th><th scope=col>CS</th><th scope=col>BB</th><th scope=col>BA</th><th scope=col>PA</th><th scope=col>TB</th><th scope=col>SlugPct</th><th scope=col>OBP</th><th scope=col>OPS</th><th scope=col>BABIP</th></tr></thead>\n",
       "<tbody>\n",
       "\t<tr><th scope=row>2</th><td>aaronha01</td><td>Hank</td><td>Aaron</td><td>1934</td><td>180</td><td>72</td><td>R</td><td>R</td><td>1982</td><td>1</td><td>12364</td><td>2174</td><td>3771</td><td>624</td><td>98</td><td>755</td><td>2297</td><td>240</td><td>73</td><td>1402</td><td>6.927</td><td>13940</td><td>6856</td><td>0.669</td><td>0.41</td><td>1.079</td><td>0.338</td></tr>\n",
       "\t<tr><th scope=row>3</th><td>aaronto01</td><td>Tommie</td><td>Aaron</td><td>1939</td><td>190</td><td>75</td><td>R</td><td>R</td><td>0</td><td>0</td><td>944</td><td>102</td><td>216</td><td>42</td><td>6</td><td>13</td><td>94</td><td>9</td><td>8</td><td>86</td><td>1.545</td><td>1045</td><td>309</td><td>0.374</td><td>0.318</td><td>0.686</td><td>0.276</td></tr>\n",
       "\t<tr><th scope=row>4</th><td>aasedo01</td><td>Don</td><td>Aase</td><td>1954</td><td>190</td><td>75</td><td>R</td><td>R</td><td>0</td><td>0</td><td>5</td><td>0</td><td>0</td><td>0</td><td>0</td><td>0</td><td>0</td><td>0</td><td>0</td><td>0</td><td>0</td><td>5</td><td>0</td><td>0</td><td>0</td><td>0</td><td>0</td></tr>\n",
       "\t<tr><th scope=row>7</th><td>abadijo01</td><td>John</td><td>Abadie</td><td>1854</td><td>192</td><td>72</td><td>R</td><td>R</td><td>0</td><td>0</td><td>49</td><td>4</td><td>11</td><td>0</td><td>0</td><td>0</td><td>5</td><td>1</td><td>0</td><td>0</td><td>0.472</td><td>49</td><td>11</td><td>0.25</td><td>0.25</td><td>0.5</td><td>0.25</td></tr>\n",
       "\t<tr><th scope=row>9</th><td>abbotji01</td><td>Jim</td><td>Abbott</td><td>1967</td><td>200</td><td>75</td><td>L</td><td>L</td><td>0</td><td>0</td><td>21</td><td>0</td><td>2</td><td>0</td><td>0</td><td>0</td><td>3</td><td>0</td><td>0</td><td>0</td><td>0.095</td><td>24</td><td>2</td><td>0.095</td><td>0.095</td><td>0.19</td><td>0.182</td></tr>\n",
       "\t<tr><th scope=row>10</th><td>abbotku01</td><td>Kurt</td><td>Abbott</td><td>1969</td><td>180</td><td>71</td><td>R</td><td>R</td><td>0</td><td>0</td><td>2044</td><td>273</td><td>523</td><td>109</td><td>23</td><td>62</td><td>242</td><td>22</td><td>11</td><td>133</td><td>2.511</td><td>2227</td><td>864</td><td>0.465</td><td>0.326</td><td>0.77</td><td>0.354</td></tr>\n",
       "</tbody>\n",
       "</table>\n"
      ],
      "text/latex": [
       "\\begin{tabular}{r|lllllllllllllllllllllllllll}\n",
       "  & playerID & nameFirst & nameLast & birthYear & weight & height & bats & throws & HallOfFameYear & HallOfFame & AB & R & H & X2B & X3B & HR & RBI & SB & CS & BB & BA & PA & TB & SlugPct & OBP & OPS & BABIP\\\\\n",
       "\\hline\n",
       "\t2 & aaronha01 & Hank & Aaron & 1934 & 180 & 72 & R & R & 1982 & 1 & 12364 & 2174 & 3771 & 624 & 98 & 755 & 2297 & 240 & 73 & 1402 & 6.927 & 13940 & 6856 & 0.669 & 0.41 & 1.079 & 0.338\\\\\n",
       "\t3 & aaronto01 & Tommie & Aaron & 1939 & 190 & 75 & R & R & 0 & 0 & 944 & 102 & 216 & 42 & 6 & 13 & 94 & 9 & 8 & 86 & 1.545 & 1045 & 309 & 0.374 & 0.318 & 0.686 & 0.276\\\\\n",
       "\t4 & aasedo01 & Don & Aase & 1954 & 190 & 75 & R & R & 0 & 0 & 5 & 0 & 0 & 0 & 0 & 0 & 0 & 0 & 0 & 0 & 0 & 5 & 0 & 0 & 0 & 0 & 0\\\\\n",
       "\t7 & abadijo01 & John & Abadie & 1854 & 192 & 72 & R & R & 0 & 0 & 49 & 4 & 11 & 0 & 0 & 0 & 5 & 1 & 0 & 0 & 0.472 & 49 & 11 & 0.25 & 0.25 & 0.5 & 0.25\\\\\n",
       "\t9 & abbotji01 & Jim & Abbott & 1967 & 200 & 75 & L & L & 0 & 0 & 21 & 0 & 2 & 0 & 0 & 0 & 3 & 0 & 0 & 0 & 0.095 & 24 & 2 & 0.095 & 0.095 & 0.19 & 0.182\\\\\n",
       "\t10 & abbotku01 & Kurt & Abbott & 1969 & 180 & 71 & R & R & 0 & 0 & 2044 & 273 & 523 & 109 & 23 & 62 & 242 & 22 & 11 & 133 & 2.511 & 2227 & 864 & 0.465 & 0.326 & 0.77 & 0.354\\\\\n",
       "\\end{tabular}\n"
      ],
      "text/plain": [
       "    playerID nameFirst nameLast birthYear weight height bats throws\n",
       "2  aaronha01      Hank    Aaron      1934    180     72    R      R\n",
       "3  aaronto01    Tommie    Aaron      1939    190     75    R      R\n",
       "4   aasedo01       Don     Aase      1954    190     75    R      R\n",
       "7  abadijo01      John   Abadie      1854    192     72    R      R\n",
       "9  abbotji01       Jim   Abbott      1967    200     75    L      L\n",
       "10 abbotku01      Kurt   Abbott      1969    180     71    R      R\n",
       "   HallOfFameYear HallOfFame    AB    R    H X2B X3B  HR  RBI  SB CS   BB    BA\n",
       "2            1982          1 12364 2174 3771 624  98 755 2297 240 73 1402 6.927\n",
       "3               0          0   944  102  216  42   6  13   94   9  8   86 1.545\n",
       "4               0          0     5    0    0   0   0   0    0   0  0    0 0.000\n",
       "7               0          0    49    4   11   0   0   0    5   1  0    0 0.472\n",
       "9               0          0    21    0    2   0   0   0    3   0  0    0 0.095\n",
       "10              0          0  2044  273  523 109  23  62  242  22 11  133 2.511\n",
       "      PA   TB SlugPct   OBP   OPS BABIP\n",
       "2  13940 6856   0.669 0.410 1.079 0.338\n",
       "3   1045  309   0.374 0.318 0.686 0.276\n",
       "4      5    0   0.000 0.000 0.000 0.000\n",
       "7     49   11   0.250 0.250 0.500 0.250\n",
       "9     24    2   0.095 0.095 0.190 0.182\n",
       "10  2227  864   0.465 0.326 0.770 0.354"
      ]
     },
     "execution_count": 40,
     "metadata": {},
     "output_type": "execute_result"
    },
    {
     "data": {
      "text/html": [
       "8111"
      ],
      "text/latex": [
       "8111"
      ],
      "text/markdown": [
       "8111"
      ],
      "text/plain": [
       "[1] 8111"
      ]
     },
     "execution_count": 40,
     "metadata": {},
     "output_type": "execute_result"
    }
   ],
   "source": [
    "HallOfFameContenders = subset( PlayersAndStats, birthYear < 1970 )\n",
    "head(HallOfFameContenders)\n",
    "nrow(HallOfFameContenders)"
   ]
  },
  {
   "cell_type": "code",
   "execution_count": 41,
   "metadata": {
    "collapsed": false
   },
   "outputs": [
    {
     "data": {
      "text/plain": [
       "   playerID          nameFirst           nameLast           birthYear   \n",
       " Length:8111        Length:8111        Length:8111        Min.   :1835  \n",
       " Class :character   Class :character   Class :character   1st Qu.:1911  \n",
       " Mode  :character   Mode  :character   Mode  :character   Median :1936  \n",
       "                                                          Mean   :1932  \n",
       "                                                          3rd Qu.:1954  \n",
       "                                                          Max.   :1969  \n",
       "     weight          height      bats     throws   HallOfFameYear   \n",
       " Min.   :120.0   Min.   :63.00   B: 556   L:1567   Min.   :   0.00  \n",
       " 1st Qu.:170.0   1st Qu.:71.00   L:2289   R:6544   1st Qu.:   0.00  \n",
       " Median :180.0   Median :72.00   R:5266            Median :   0.00  \n",
       " Mean   :182.6   Mean   :72.25                     Mean   :  47.05  \n",
       " 3rd Qu.:193.0   3rd Qu.:74.00                     3rd Qu.:   0.00  \n",
       " Max.   :295.0   Max.   :82.00                     Max.   :2015.00  \n",
       "   HallOfFame            AB                R                H         \n",
       " Min.   :0.00000   Min.   :    1.0   Min.   :   0.0   Min.   :   0.0  \n",
       " 1st Qu.:0.00000   1st Qu.:   23.0   1st Qu.:   2.0   1st Qu.:   3.0  \n",
       " Median :0.00000   Median :  161.0   Median :  14.0   Median :  30.0  \n",
       " Mean   :0.02379   Mean   :  961.8   Mean   : 125.1   Mean   : 252.0  \n",
       " 3rd Qu.:0.00000   3rd Qu.:  942.0   3rd Qu.: 103.0   3rd Qu.: 222.5  \n",
       " Max.   :1.00000   Max.   :14053.0   Max.   :2295.0   Max.   :4256.0  \n",
       "      X2B              X3B                HR              RBI        \n",
       " Min.   :  0.00   Min.   :  0.000   Min.   :  0.00   Min.   :   0.0  \n",
       " 1st Qu.:  0.00   1st Qu.:  0.000   1st Qu.:  0.00   1st Qu.:   1.0  \n",
       " Median :  4.00   Median :  1.000   Median :  1.00   Median :  12.0  \n",
       " Mean   : 42.44   Mean   :  7.777   Mean   : 21.32   Mean   : 116.5  \n",
       " 3rd Qu.: 35.00   3rd Qu.:  6.000   3rd Qu.:  9.00   3rd Qu.:  93.0  \n",
       " Max.   :746.00   Max.   :173.000   Max.   :762.00   Max.   :2297.0  \n",
       "       SB                CS                BB                BA       \n",
       " Min.   :   0.00   Min.   :  0.000   Min.   :   0.00   Min.   :0.000  \n",
       " 1st Qu.:   0.00   1st Qu.:  0.000   1st Qu.:   1.00   1st Qu.:0.247  \n",
       " Median :   0.00   Median :  0.000   Median :  10.00   Median :0.679  \n",
       " Mean   :  16.52   Mean   :  9.458   Mean   :  93.99   Mean   :1.186  \n",
       " 3rd Qu.:   8.00   3rd Qu.:  7.000   3rd Qu.:  73.00   3rd Qu.:1.732  \n",
       " Max.   :1406.00   Max.   :335.000   Max.   :2558.00   Max.   :7.804  \n",
       "       PA                TB          SlugPct            OBP        \n",
       " Min.   :    1.0   Min.   :   0   Min.   :0.0000   Min.   :0.0000  \n",
       " 1st Qu.:   25.5   1st Qu.:   4   1st Qu.:0.2570   1st Qu.:0.2670  \n",
       " Median :  181.0   Median :  39   Median :0.3890   Median :0.3450  \n",
       " Mean   : 1082.0   Mean   : 374   Mean   :0.3979   Mean   :0.3463  \n",
       " 3rd Qu.: 1038.0   3rd Qu.: 310   3rd Qu.:0.5000   3rd Qu.:0.4070  \n",
       " Max.   :15861.0   Max.   :6856   Max.   :3.0000   Max.   :1.0000  \n",
       "      OPS             BABIP       \n",
       " Min.   :0.0000   Min.   :0.0000  \n",
       " 1st Qu.:0.5230   1st Qu.:0.2700  \n",
       " Median :0.7280   Median :0.3330  \n",
       " Mean   :0.7323   Mean   :0.3581  \n",
       " 3rd Qu.:0.8910   3rd Qu.:0.4000  \n",
       " Max.   :4.0000   Max.   :1.0000  "
      ]
     },
     "execution_count": 41,
     "metadata": {},
     "output_type": "execute_result"
    }
   ],
   "source": [
    "summary(HallOfFameContenders)"
   ]
  },
  {
   "cell_type": "code",
   "execution_count": 42,
   "metadata": {
    "collapsed": false
   },
   "outputs": [
    {
     "data": {
      "text/plain": [
       "\n",
       "Call:\n",
       "glm(formula = HallOfFame ~ AB + R + H + X2B + X3B + HR + RBI + \n",
       "    SB + CS + BB + BA + PA + SlugPct + OBP + BABIP, family = binomial, \n",
       "    data = HallOfFameContenders)\n",
       "\n",
       "Deviance Residuals: \n",
       "    Min       1Q   Median       3Q      Max  \n",
       "-2.0236  -0.1609  -0.1354  -0.1225   3.2096  \n",
       "\n",
       "Coefficients:\n",
       "             Estimate Std. Error z value Pr(>|z|)    \n",
       "(Intercept) -5.177921   0.245464 -21.094  < 2e-16 ***\n",
       "AB          -0.015193   0.002452  -6.195 5.82e-10 ***\n",
       "R            0.004717   0.001993   2.366  0.01797 *  \n",
       "H            0.004591   0.001633   2.812  0.00493 ** \n",
       "X2B         -0.017811   0.003509  -5.076 3.86e-07 ***\n",
       "X3B          0.021059   0.006559   3.210  0.00133 ** \n",
       "HR          -0.007845   0.003394  -2.312  0.02080 *  \n",
       "RBI          0.006136   0.001578   3.890  0.00010 ***\n",
       "SB           0.005979   0.002021   2.958  0.00309 ** \n",
       "CS          -0.034386   0.007499  -4.586 4.53e-06 ***\n",
       "BB          -0.013913   0.002313  -6.015 1.80e-09 ***\n",
       "BA           0.065975   0.135318   0.488  0.62587    \n",
       "PA           0.013597   0.002289   5.941 2.83e-09 ***\n",
       "SlugPct      0.539446   0.509461   1.059  0.28966    \n",
       "OBP          0.570971   1.114045   0.513  0.60829    \n",
       "BABIP        0.035612   0.804150   0.044  0.96468    \n",
       "---\n",
       "Signif. codes:  0 ‘***’ 0.001 ‘**’ 0.01 ‘*’ 0.05 ‘.’ 0.1 ‘ ’ 1\n",
       "\n",
       "(Dispersion parameter for binomial family taken to be 1)\n",
       "\n",
       "    Null deviance: 1824.3  on 8110  degrees of freedom\n",
       "Residual deviance: 1295.1  on 8095  degrees of freedom\n",
       "AIC: 1327.1\n",
       "\n",
       "Number of Fisher Scoring iterations: 7\n"
      ]
     },
     "execution_count": 42,
     "metadata": {},
     "output_type": "execute_result"
    }
   ],
   "source": [
    "BaselineHallOfFameModel = glm( HallOfFame ~ AB+R+H+X2B+X3B+HR+RBI+SB+CS+BB+BA+PA+SlugPct+OBP+BABIP,\n",
    "                         data = HallOfFameContenders, family=binomial)\n",
    "\n",
    "summary(BaselineHallOfFameModel)"
   ]
  },
  {
   "cell_type": "code",
   "execution_count": 43,
   "metadata": {
    "collapsed": false
   },
   "outputs": [
    {
     "data": {
      "text/plain": [
       "   \n",
       "       0    1\n",
       "  0 7899  155\n",
       "  1   19   38"
      ]
     },
     "execution_count": 43,
     "metadata": {},
     "output_type": "execute_result"
    }
   ],
   "source": [
    "confusionMatrix = table( round(predict(BaselineHallOfFameModel, type=\"response\")), HallOfFameContenders$HallOfFame )\n",
    "confusionMatrix\n",
    "# terrible prediction accuracy:  only 34 Hall-of-Fame players were identified correctly:"
   ]
  },
  {
   "cell_type": "markdown",
   "metadata": {},
   "source": [
    "##  Warning!  This dataset is severely imbalanced.  Read Ch.16 of [APM]\n",
    "\n",
    "Only about 1% or 2% of all players are inducted into the Hall of Fame:"
   ]
  },
  {
   "cell_type": "code",
   "execution_count": 44,
   "metadata": {
    "collapsed": false
   },
   "outputs": [
    {
     "data": {
      "text/plain": [
       "\n",
       "   0    1 \n",
       "7918  193 "
      ]
     },
     "execution_count": 44,
     "metadata": {},
     "output_type": "execute_result"
    }
   ],
   "source": [
    "( FameTally = table( HallOfFameContenders$HallOfFame ) )"
   ]
  },
  {
   "cell_type": "code",
   "execution_count": 45,
   "metadata": {
    "collapsed": false
   },
   "outputs": [
    {
     "data": {
      "text/html": [
       "<table>\n",
       "<thead><tr><th></th><th scope=col>percentageOfHallOfFamers</th></tr></thead>\n",
       "<tbody>\n",
       "\t<tr><th scope=row>1</th><td>0.02379485</td></tr>\n",
       "</tbody>\n",
       "</table>\n"
      ],
      "text/latex": [
       "\\begin{tabular}{r|l}\n",
       "  & percentageOfHallOfFamers\\\\\n",
       "\\hline\n",
       "\t1 & 0.02379485\\\\\n",
       "\\end{tabular}\n"
      ],
      "text/plain": [
       "  percentageOfHallOfFamers\n",
       "1               0.02379485"
      ]
     },
     "execution_count": 45,
     "metadata": {},
     "output_type": "execute_result"
    }
   ],
   "source": [
    "data.frame( percentageOfHallOfFamers = FameTally[2] / sum(FameTally) )"
   ]
  },
  {
   "cell_type": "markdown",
   "metadata": {},
   "source": [
    "##  The measure of accuracy will heavily emphasize correct prediction of Hall-of-Fame players\n",
    "\n",
    "(i.e., the measurement of accuracy will focus on correct prediction of Hall-of-Fame players)\n",
    "\n",
    "Even though classifying everybody as a NON-Hall-of-Fame player is right\n",
    "for about 98% of the players, predictions for Hall-of-Fame players will be weighted heavily in this assignment.\n",
    "Ignoring these players will get a very low score on this assignment.\n",
    "\n",
    "Specifically, your model will be evaluated by its <b>Hall-of-Fame-Accuracy-Rate</b>:\n",
    "<blockquote>\n",
    "This rate is a weighted percentage of correct predictions\n",
    "for players in the Hall of Fame:  <u>correct prediction for players in the Hall of Fame\n",
    "is worth 100 times more than for players who are not in the Hall of Fame.</u>\n",
    "</blockquote>\n"
   ]
  },
  {
   "cell_type": "code",
   "execution_count": 46,
   "metadata": {
    "collapsed": false
   },
   "outputs": [
    {
     "name": "stderr",
     "output_type": "stream",
     "text": [
      "Loading required package: rpart\n",
      "randomForest 4.6-12\n",
      "Type rfNews() to see new features/changes/bug fixes.\n"
     ]
    }
   ],
   "source": [
    "if (!(is.element(\"ada\", installed.packages())))  install.packages(\"ada\",repos=\"http://cran.rstudio.com/\")\n",
    "library(ada)\n",
    "if (!(is.element(\"randomForest\", installed.packages())))  install.packages(\"randomForest\",repos=\"http://cran.rstudio.com/\")\n",
    "library(randomForest)\n",
    "library(rpart)"
   ]
  },
  {
   "cell_type": "code",
   "execution_count": 47,
   "metadata": {
    "collapsed": false
   },
   "outputs": [
    {
     "data": {
      "text/plain": [
       "Subset selection object\n",
       "Call: regsubsets.formula(HallOfFame ~ AB + R + H + X2B + X3B + HR + \n",
       "    RBI + SB + CS + BB + BA + PA + SlugPct + OBP + BABIP + weight + \n",
       "    log10(height) + bats + throws + OPS, data = HallOfFameContenders, \n",
       "    nbest = 1, nvmax = NULL, method = \"exhaustive\")\n",
       "21 Variables  (and intercept)\n",
       "              Forced in Forced out\n",
       "AB                FALSE      FALSE\n",
       "R                 FALSE      FALSE\n",
       "H                 FALSE      FALSE\n",
       "X2B               FALSE      FALSE\n",
       "X3B               FALSE      FALSE\n",
       "HR                FALSE      FALSE\n",
       "RBI               FALSE      FALSE\n",
       "SB                FALSE      FALSE\n",
       "CS                FALSE      FALSE\n",
       "BB                FALSE      FALSE\n",
       "BA                FALSE      FALSE\n",
       "PA                FALSE      FALSE\n",
       "SlugPct           FALSE      FALSE\n",
       "OBP               FALSE      FALSE\n",
       "BABIP             FALSE      FALSE\n",
       "weight            FALSE      FALSE\n",
       "log10(height)     FALSE      FALSE\n",
       "batsL             FALSE      FALSE\n",
       "batsR             FALSE      FALSE\n",
       "throwsR           FALSE      FALSE\n",
       "OPS               FALSE      FALSE\n",
       "1 subsets of each size up to 21\n",
       "Selection Algorithm: exhaustive\n",
       "          AB  R   H   X2B X3B HR  RBI SB  CS  BB  BA  PA  SlugPct OBP BABIP\n",
       "1  ( 1 )  \" \" \" \" \" \" \" \" \"*\" \" \" \" \" \" \" \" \" \" \" \" \" \" \" \" \"     \" \" \" \"  \n",
       "2  ( 1 )  \"*\" \" \" \"*\" \" \" \" \" \" \" \" \" \" \" \" \" \" \" \" \" \" \" \" \"     \" \" \" \"  \n",
       "3  ( 1 )  \"*\" \"*\" \"*\" \" \" \" \" \" \" \" \" \" \" \" \" \" \" \" \" \" \" \" \"     \" \" \" \"  \n",
       "4  ( 1 )  \"*\" \"*\" \" \" \" \" \"*\" \" \" \" \" \" \" \"*\" \" \" \" \" \" \" \" \"     \" \" \" \"  \n",
       "5  ( 1 )  \"*\" \"*\" \"*\" \" \" \"*\" \" \" \" \" \" \" \"*\" \" \" \" \" \" \" \" \"     \" \" \" \"  \n",
       "6  ( 1 )  \"*\" \"*\" \" \" \" \" \"*\" \" \" \" \" \" \" \"*\" \"*\" \" \" \"*\" \" \"     \" \" \" \"  \n",
       "7  ( 1 )  \"*\" \"*\" \"*\" \" \" \"*\" \" \" \" \" \" \" \"*\" \"*\" \" \" \"*\" \" \"     \" \" \" \"  \n",
       "8  ( 1 )  \"*\" \" \" \"*\" \" \" \"*\" \" \" \"*\" \"*\" \"*\" \"*\" \" \" \"*\" \" \"     \" \" \" \"  \n",
       "9  ( 1 )  \"*\" \" \" \"*\" \"*\" \"*\" \" \" \"*\" \"*\" \"*\" \"*\" \" \" \"*\" \" \"     \" \" \" \"  \n",
       "10  ( 1 ) \"*\" \"*\" \"*\" \"*\" \"*\" \" \" \"*\" \"*\" \"*\" \"*\" \" \" \"*\" \" \"     \" \" \" \"  \n",
       "11  ( 1 ) \"*\" \"*\" \"*\" \"*\" \"*\" \" \" \"*\" \"*\" \"*\" \"*\" \" \" \"*\" \" \"     \" \" \" \"  \n",
       "12  ( 1 ) \"*\" \"*\" \"*\" \"*\" \"*\" \"*\" \"*\" \"*\" \"*\" \"*\" \" \" \"*\" \" \"     \" \" \" \"  \n",
       "13  ( 1 ) \"*\" \"*\" \"*\" \"*\" \"*\" \"*\" \"*\" \"*\" \"*\" \"*\" \" \" \"*\" \" \"     \" \" \"*\"  \n",
       "14  ( 1 ) \"*\" \"*\" \"*\" \"*\" \"*\" \"*\" \"*\" \"*\" \"*\" \"*\" \" \" \"*\" \" \"     \" \" \"*\"  \n",
       "15  ( 1 ) \"*\" \"*\" \"*\" \"*\" \"*\" \"*\" \"*\" \"*\" \"*\" \"*\" \" \" \"*\" \" \"     \" \" \"*\"  \n",
       "16  ( 1 ) \"*\" \"*\" \"*\" \"*\" \"*\" \"*\" \"*\" \"*\" \"*\" \"*\" \" \" \"*\" \" \"     \" \" \"*\"  \n",
       "17  ( 1 ) \"*\" \"*\" \"*\" \"*\" \"*\" \"*\" \"*\" \"*\" \"*\" \"*\" \" \" \"*\" \" \"     \" \" \"*\"  \n",
       "18  ( 1 ) \"*\" \"*\" \"*\" \"*\" \"*\" \"*\" \"*\" \"*\" \"*\" \"*\" \"*\" \"*\" \" \"     \" \" \"*\"  \n",
       "19  ( 1 ) \"*\" \"*\" \"*\" \"*\" \"*\" \"*\" \"*\" \"*\" \"*\" \"*\" \"*\" \"*\" \" \"     \" \" \"*\"  \n",
       "20  ( 1 ) \"*\" \"*\" \"*\" \"*\" \"*\" \"*\" \"*\" \"*\" \"*\" \"*\" \" \" \"*\" \"*\"     \"*\" \"*\"  \n",
       "21  ( 1 ) \"*\" \"*\" \"*\" \"*\" \"*\" \"*\" \"*\" \"*\" \"*\" \"*\" \"*\" \"*\" \"*\"     \"*\" \"*\"  \n",
       "          weight log10(height) batsL batsR throwsR OPS\n",
       "1  ( 1 )  \" \"    \" \"           \" \"   \" \"   \" \"     \" \"\n",
       "2  ( 1 )  \" \"    \" \"           \" \"   \" \"   \" \"     \" \"\n",
       "3  ( 1 )  \" \"    \" \"           \" \"   \" \"   \" \"     \" \"\n",
       "4  ( 1 )  \" \"    \" \"           \" \"   \" \"   \" \"     \" \"\n",
       "5  ( 1 )  \" \"    \" \"           \" \"   \" \"   \" \"     \" \"\n",
       "6  ( 1 )  \" \"    \" \"           \" \"   \" \"   \" \"     \" \"\n",
       "7  ( 1 )  \" \"    \" \"           \" \"   \" \"   \" \"     \" \"\n",
       "8  ( 1 )  \" \"    \" \"           \" \"   \" \"   \" \"     \" \"\n",
       "9  ( 1 )  \" \"    \" \"           \" \"   \" \"   \" \"     \" \"\n",
       "10  ( 1 ) \" \"    \" \"           \" \"   \" \"   \" \"     \" \"\n",
       "11  ( 1 ) \" \"    \" \"           \"*\"   \" \"   \" \"     \" \"\n",
       "12  ( 1 ) \" \"    \" \"           \"*\"   \" \"   \" \"     \" \"\n",
       "13  ( 1 ) \" \"    \" \"           \"*\"   \" \"   \" \"     \" \"\n",
       "14  ( 1 ) \" \"    \"*\"           \"*\"   \" \"   \" \"     \" \"\n",
       "15  ( 1 ) \"*\"    \"*\"           \"*\"   \" \"   \" \"     \" \"\n",
       "16  ( 1 ) \"*\"    \"*\"           \"*\"   \"*\"   \" \"     \" \"\n",
       "17  ( 1 ) \"*\"    \"*\"           \"*\"   \"*\"   \"*\"     \" \"\n",
       "18  ( 1 ) \"*\"    \"*\"           \"*\"   \"*\"   \"*\"     \" \"\n",
       "19  ( 1 ) \"*\"    \"*\"           \"*\"   \"*\"   \"*\"     \"*\"\n",
       "20  ( 1 ) \"*\"    \"*\"           \"*\"   \"*\"   \"*\"     \"*\"\n",
       "21  ( 1 ) \"*\"    \"*\"           \"*\"   \"*\"   \"*\"     \"*\""
      ]
     },
     "execution_count": 47,
     "metadata": {},
     "output_type": "execute_result"
    }
   ],
   "source": [
    "rs = regsubsets( HallOfFame ~ AB+R+H+X2B+X3B+HR+RBI+SB+CS+BB+BA+PA+SlugPct+OBP+BABIP+weight+log10(height)+bats+throws+OPS, \n",
    "                data=HallOfFameContenders, nbest=1, nvmax=NULL , method = \"exhaustive\" )\n",
    "\n",
    "summary(rs)"
   ]
  },
  {
   "cell_type": "code",
   "execution_count": null,
   "metadata": {
    "collapsed": false
   },
   "outputs": [],
   "source": [
    "#p2_model = ada( HallOfFame ~ AB+R+H+X2B+X3B+HR+RBI+SB+CS+BB+BA+PA+SlugPct+OBP+BABIP+weight+height+throws+OPS,\n",
    " #                        data = HallOfFameContenders)"
   ]
  },
  {
   "cell_type": "code",
   "execution_count": 49,
   "metadata": {
    "collapsed": true
   },
   "outputs": [],
   "source": [
    "RelevantInformation = HallOfFameContenders"
   ]
  },
  {
   "cell_type": "code",
   "execution_count": 50,
   "metadata": {
    "collapsed": false
   },
   "outputs": [
    {
     "name": "stderr",
     "output_type": "stream",
     "text": [
      "Warning message:\n",
      "In randomForest.default(m, y, ...): The response has five or fewer unique values.  Are you sure you want to do regression?"
     ]
    }
   ],
   "source": [
    "# takes a while to run\n",
    "p2_model = randomForest( HallOfFame ~ AB+R+H+X2B+X3B+HR+RBI+SB+CS+BB+BA+PA+SlugPct+OBP+BABIP+weight+height+throws+OPS,\n",
    "                         data = RelevantInformation)"
   ]
  },
  {
   "cell_type": "code",
   "execution_count": 51,
   "metadata": {
    "collapsed": false
   },
   "outputs": [
    {
     "name": "stderr",
     "output_type": "stream",
     "text": [
      "Loading required package: lattice\n",
      "Loading required package: ggplot2\n",
      "\n",
      "Attaching package: ‘ggplot2’\n",
      "\n",
      "The following object is masked from ‘package:randomForest’:\n",
      "\n",
      "    margin\n",
      "\n"
     ]
    }
   ],
   "source": [
    "library(caret)\n",
    "if (!(is.element(\"e1071\", installed.packages())))  install.packages(\"e1071\",repos=\"http://cran.rstudio.com/\")\n",
    "library(e1071)"
   ]
  },
  {
   "cell_type": "code",
   "execution_count": 52,
   "metadata": {
    "collapsed": false
   },
   "outputs": [
    {
     "data": {
      "text/plain": [
       "   \n",
       "       0    1\n",
       "  0 7918   17\n",
       "  1    0  176"
      ]
     },
     "execution_count": 52,
     "metadata": {},
     "output_type": "execute_result"
    }
   ],
   "source": [
    "confusion_matrix = table( round(predict(p2_model, HallOfFameContenders, type=\"response\")), HallOfFameContenders$HallOfFame )\n",
    "confusion_matrix"
   ]
  },
  {
   "cell_type": "code",
   "execution_count": 53,
   "metadata": {
    "collapsed": false
   },
   "outputs": [
    {
     "data": {
      "text/plain": [
       "Confusion Matrix and Statistics\n",
       "\n",
       "   \n",
       "       0    1\n",
       "  0 7918   17\n",
       "  1    0  176\n",
       "                                          \n",
       "               Accuracy : 0.9979          \n",
       "                 95% CI : (0.9966, 0.9988)\n",
       "    No Information Rate : 0.9762          \n",
       "    P-Value [Acc > NIR] : < 2.2e-16       \n",
       "                                          \n",
       "                  Kappa : 0.9529          \n",
       " Mcnemar's Test P-Value : 0.0001042       \n",
       "                                          \n",
       "            Sensitivity : 1.0000          \n",
       "            Specificity : 0.9119          \n",
       "         Pos Pred Value : 0.9979          \n",
       "         Neg Pred Value : 1.0000          \n",
       "             Prevalence : 0.9762          \n",
       "         Detection Rate : 0.9762          \n",
       "   Detection Prevalence : 0.9783          \n",
       "      Balanced Accuracy : 0.9560          \n",
       "                                          \n",
       "       'Positive' Class : 0               \n",
       "                                          "
      ]
     },
     "execution_count": 53,
     "metadata": {},
     "output_type": "execute_result"
    }
   ],
   "source": [
    "confusionMatrix(confusion_matrix)"
   ]
  },
  {
   "cell_type": "code",
   "execution_count": 54,
   "metadata": {
    "collapsed": false
   },
   "outputs": [],
   "source": [
    "correct_score = confusion_matrix[1] + 100 * confusion_matrix[4]\n",
    "total_score = correct_score + 100 * confusion_matrix[3] + confusion_matrix[2]\n",
    "p2_accu = round(correct_score / total_score, digits=4)"
   ]
  },
  {
   "cell_type": "code",
   "execution_count": 55,
   "metadata": {
    "collapsed": true
   },
   "outputs": [],
   "source": [
    "p2 = c(p2_accu,\n",
    "      \"\\\"randomForest(HallOfFame ~ AB+R+H+X2B+X3B+HR+RBI+SB+CS+BB+BA+PA+SlugPct+OBP+BABIP+weight+height+throws+OPS,data = RelevantInformation)\\\"\")"
   ]
  },
  {
   "cell_type": "code",
   "execution_count": 56,
   "metadata": {
    "collapsed": true
   },
   "outputs": [],
   "source": [
    "halloffame_test = read.csv(file=\"HW4_Baseball_HallOfFame_test.csv\",head=TRUE,sep=\",\")"
   ]
  },
  {
   "cell_type": "code",
   "execution_count": 63,
   "metadata": {
    "collapsed": true
   },
   "outputs": [],
   "source": [
    "halloffame_predictions = round(predict(p2_model, halloffame_test, type=\"response\"))"
   ]
  },
  {
   "cell_type": "code",
   "execution_count": 64,
   "metadata": {
    "collapsed": true
   },
   "outputs": [],
   "source": [
    "write.table(halloffame_predictions, file=\"HW4_Baseball_HallOfFame_predictions.csv\", quote=FALSE, row.names=FALSE, col.names=c(\"HallOfFame\"))"
   ]
  },
  {
   "cell_type": "code",
   "execution_count": 59,
   "metadata": {
    "collapsed": false
   },
   "outputs": [],
   "source": [
    "retval = c()\n",
    "retval = append(retval, paste(p1, collapse=\",\"))\n",
    "retval = append(retval, paste(p2, collapse=\",\"))"
   ]
  },
  {
   "cell_type": "code",
   "execution_count": 60,
   "metadata": {
    "collapsed": true
   },
   "outputs": [],
   "source": [
    "write(retval, \"HW4_Baseball_Models.csv\")"
   ]
  },
  {
   "cell_type": "code",
   "execution_count": null,
   "metadata": {
    "collapsed": true
   },
   "outputs": [],
   "source": []
  }
 ],
 "metadata": {
  "kernelspec": {
   "display_name": "R",
   "language": "R",
   "name": "ir"
  },
  "language_info": {
   "codemirror_mode": "r",
   "file_extension": ".r",
   "mimetype": "text/x-r-source",
   "name": "R",
   "pygments_lexer": "r",
   "version": "3.2.2"
  }
 },
 "nbformat": 4,
 "nbformat_minor": 0
}
